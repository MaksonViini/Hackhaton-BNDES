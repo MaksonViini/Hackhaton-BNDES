{
  "nbformat": 4,
  "nbformat_minor": 0,
  "metadata": {
    "colab": {
      "name": "BNDES_Cluster_operacoes.ipynb",
      "provenance": [],
      "authorship_tag": "ABX9TyPB6PBEBMSkdXt3Nvy4ps60",
      "include_colab_link": true
    },
    "kernelspec": {
      "name": "python3",
      "display_name": "Python 3"
    },
    "language_info": {
      "name": "python"
    }
  },
  "cells": [
    {
      "cell_type": "markdown",
      "metadata": {
        "id": "view-in-github",
        "colab_type": "text"
      },
      "source": [
        "<a href=\"https://colab.research.google.com/github/MaksonViini/Hackhaton-BNDES/blob/develop/BNDES_Cluster_operacoes.ipynb\" target=\"_parent\"><img src=\"https://colab.research.google.com/assets/colab-badge.svg\" alt=\"Open In Colab\"/></a>"
      ]
    },
    {
      "cell_type": "code",
      "metadata": {
        "colab": {
          "base_uri": "https://localhost:8080/"
        },
        "id": "Nz-lTmHG7sHM",
        "outputId": "f2e2e557-557e-49b3-b420-326b6368813a"
      },
      "source": [
        "from google.colab import drive\n",
        "drive.mount('/content/drive')"
      ],
      "execution_count": 1,
      "outputs": [
        {
          "output_type": "stream",
          "text": [
            "Mounted at /content/drive\n"
          ],
          "name": "stdout"
        }
      ]
    },
    {
      "cell_type": "code",
      "metadata": {
        "id": "KgPaX3rG7vlr"
      },
      "source": [
        "import pandas as pd\n",
        "import numpy as np\n",
        "\n",
        "import matplotlib.pyplot as plt\n",
        "import seaborn as sns\n",
        "import plotly.express as px\n",
        "import plotly.graph_objects as go\n",
        "\n",
        "\n",
        "from sklearn.cluster import KMeans"
      ],
      "execution_count": 38,
      "outputs": []
    },
    {
      "cell_type": "code",
      "metadata": {
        "id": "mV5gFbWl7xhV"
      },
      "source": [
        "df = pd.read_parquet('/content/drive/Shareddrives/bndes-arquivos/operacoes.parquet')"
      ],
      "execution_count": 3,
      "outputs": []
    },
    {
      "cell_type": "code",
      "metadata": {
        "colab": {
          "base_uri": "https://localhost:8080/",
          "height": 485
        },
        "id": "Bp8A_Dei7_z3",
        "outputId": "47b45f9f-b593-43ce-97d2-59492a53e8be"
      },
      "source": [
        "df.head()"
      ],
      "execution_count": 4,
      "outputs": [
        {
          "output_type": "execute_result",
          "data": {
            "text/html": [
              "<div>\n",
              "<style scoped>\n",
              "    .dataframe tbody tr th:only-of-type {\n",
              "        vertical-align: middle;\n",
              "    }\n",
              "\n",
              "    .dataframe tbody tr th {\n",
              "        vertical-align: top;\n",
              "    }\n",
              "\n",
              "    .dataframe thead th {\n",
              "        text-align: right;\n",
              "    }\n",
              "</style>\n",
              "<table border=\"1\" class=\"dataframe\">\n",
              "  <thead>\n",
              "    <tr style=\"text-align: right;\">\n",
              "      <th></th>\n",
              "      <th>cliente</th>\n",
              "      <th>cnpj</th>\n",
              "      <th>uf</th>\n",
              "      <th>municipio</th>\n",
              "      <th>municipio_codigo</th>\n",
              "      <th>data_da_contratacao</th>\n",
              "      <th>valor_em_reais</th>\n",
              "      <th>valor_desembolsado_reais</th>\n",
              "      <th>fonte_de_recurso_desembolsos</th>\n",
              "      <th>custo_financeiro</th>\n",
              "      <th>juros</th>\n",
              "      <th>prazo_carencia_meses</th>\n",
              "      <th>prazo_amortizacao_meses</th>\n",
              "      <th>modalidade_de_apoio</th>\n",
              "      <th>forma_de_apoio</th>\n",
              "      <th>produto</th>\n",
              "      <th>instrumento_financeiro</th>\n",
              "      <th>inovacao</th>\n",
              "      <th>area_operacional</th>\n",
              "      <th>setor_cnae</th>\n",
              "      <th>subsetor_cnae_agrupado</th>\n",
              "      <th>subsetor_cnae_codigo</th>\n",
              "      <th>subsetor_cnae_nome</th>\n",
              "      <th>setor_bndes</th>\n",
              "      <th>subsetor_bndes</th>\n",
              "      <th>porte_do_cliente</th>\n",
              "      <th>natureza_do_cliente</th>\n",
              "      <th>instituicao_financeira_credenciada</th>\n",
              "      <th>cnpj_do_agente_financeiro</th>\n",
              "      <th>situacao</th>\n",
              "      <th>origem</th>\n",
              "      <th>valor_contratado_reais</th>\n",
              "      <th>descricao_do_projeto</th>\n",
              "      <th>numero_do_contrato</th>\n",
              "      <th>tipo_de_garantia</th>\n",
              "      <th>tipo_de_excepcionalidade</th>\n",
              "      <th>id</th>\n",
              "    </tr>\n",
              "  </thead>\n",
              "  <tbody>\n",
              "    <tr>\n",
              "      <th>0</th>\n",
              "      <td>BANCO COOPERATIVO SICOOB S.A.</td>\n",
              "      <td>**.*38.232/0001-**</td>\n",
              "      <td>SP</td>\n",
              "      <td>PEDREGULHO</td>\n",
              "      <td>3537008</td>\n",
              "      <td>2002-01-02</td>\n",
              "      <td>16000.0</td>\n",
              "      <td>16000.0</td>\n",
              "      <td>RECURSOS LIVRES - TESOURO</td>\n",
              "      <td>TAXA FIXA</td>\n",
              "      <td>8,75</td>\n",
              "      <td>24</td>\n",
              "      <td>36</td>\n",
              "      <td>REEMBOLSAVEL</td>\n",
              "      <td>INDIRETA</td>\n",
              "      <td>BNDES AUTOMATICO</td>\n",
              "      <td>OUTROS</td>\n",
              "      <td>NAO</td>\n",
              "      <td>AREA DE OPERACOES E CANAIS DIGITAIS</td>\n",
              "      <td>AGROPECUARIA E PESCA</td>\n",
              "      <td>AgropecuA¡ria</td>\n",
              "      <td>A0119900</td>\n",
              "      <td>CULT PLANTAS LAVOURA TEMPORARIA NAO ESPECIFICA...</td>\n",
              "      <td>AGROPECUARIA</td>\n",
              "      <td>AGROPECUARIA</td>\n",
              "      <td>MICRO</td>\n",
              "      <td>PRIVADA</td>\n",
              "      <td>BANCO COOPERATIVO SICOOB S.A.</td>\n",
              "      <td>02.038.232.0001-64</td>\n",
              "      <td>LIQUIDADA</td>\n",
              "      <td>AUTOMATICA</td>\n",
              "      <td>16000.0</td>\n",
              "      <td>0</td>\n",
              "      <td>0</td>\n",
              "      <td>0</td>\n",
              "      <td>0</td>\n",
              "      <td>382320001SP</td>\n",
              "    </tr>\n",
              "    <tr>\n",
              "      <th>1</th>\n",
              "      <td>BANCO REGIONAL DE DESENVOLVIMENTO DO EXTREMO SUL</td>\n",
              "      <td>**.*16.560/0001-**</td>\n",
              "      <td>RS</td>\n",
              "      <td>TRES DE MAIO</td>\n",
              "      <td>4321808</td>\n",
              "      <td>2002-01-02</td>\n",
              "      <td>8047.0</td>\n",
              "      <td>8047.0</td>\n",
              "      <td>RECURSOS VINCULADOS - FAT DEPA“SITOS ESPECIAIS</td>\n",
              "      <td>TAXA FIXA</td>\n",
              "      <td>4,0</td>\n",
              "      <td>0</td>\n",
              "      <td>60</td>\n",
              "      <td>REEMBOLSAVEL</td>\n",
              "      <td>INDIRETA</td>\n",
              "      <td>BNDES AUTOMATICO</td>\n",
              "      <td>PRONAF INVESTIMENTO</td>\n",
              "      <td>NAO</td>\n",
              "      <td>AREA DE OPERACOES E CANAIS DIGITAIS</td>\n",
              "      <td>AGROPECUARIA E PESCA</td>\n",
              "      <td>AgropecuA¡ria</td>\n",
              "      <td>A0100000</td>\n",
              "      <td>AGRICULTURA, PECUARIA E SERVICOS RELACIONADOS</td>\n",
              "      <td>AGROPECUARIA</td>\n",
              "      <td>AGROPECUARIA</td>\n",
              "      <td>MICRO</td>\n",
              "      <td>PRIVADA</td>\n",
              "      <td>BANCO REGIONAL DE DESENVOLVIMENTO DO EXTREMO SUL</td>\n",
              "      <td>92.816.560.0001-37</td>\n",
              "      <td>LIQUIDADA</td>\n",
              "      <td>AUTOMATICA</td>\n",
              "      <td>8047.0</td>\n",
              "      <td>0</td>\n",
              "      <td>0</td>\n",
              "      <td>0</td>\n",
              "      <td>0</td>\n",
              "      <td>165600001RS</td>\n",
              "    </tr>\n",
              "    <tr>\n",
              "      <th>2</th>\n",
              "      <td>BANCO REGIONAL DE DESENVOLVIMENTO DO EXTREMO SUL</td>\n",
              "      <td>**.*16.560/0001-**</td>\n",
              "      <td>RS</td>\n",
              "      <td>ERECHIM</td>\n",
              "      <td>4307005</td>\n",
              "      <td>2002-01-02</td>\n",
              "      <td>8104.0</td>\n",
              "      <td>8104.0</td>\n",
              "      <td>RECURSOS VINCULADOS - FAT DEPA“SITOS ESPECIAIS</td>\n",
              "      <td>TAXA FIXA</td>\n",
              "      <td>4,0</td>\n",
              "      <td>12</td>\n",
              "      <td>48</td>\n",
              "      <td>REEMBOLSAVEL</td>\n",
              "      <td>INDIRETA</td>\n",
              "      <td>BNDES AUTOMATICO</td>\n",
              "      <td>PRONAF INVESTIMENTO</td>\n",
              "      <td>NAO</td>\n",
              "      <td>AREA DE OPERACOES E CANAIS DIGITAIS</td>\n",
              "      <td>AGROPECUARIA E PESCA</td>\n",
              "      <td>AgropecuA¡ria</td>\n",
              "      <td>A0100000</td>\n",
              "      <td>AGRICULTURA, PECUARIA E SERVICOS RELACIONADOS</td>\n",
              "      <td>AGROPECUARIA</td>\n",
              "      <td>AGROPECUARIA</td>\n",
              "      <td>MICRO</td>\n",
              "      <td>PRIVADA</td>\n",
              "      <td>BANCO REGIONAL DE DESENVOLVIMENTO DO EXTREMO SUL</td>\n",
              "      <td>92.816.560.0001-37</td>\n",
              "      <td>LIQUIDADA</td>\n",
              "      <td>AUTOMATICA</td>\n",
              "      <td>8104.0</td>\n",
              "      <td>0</td>\n",
              "      <td>0</td>\n",
              "      <td>0</td>\n",
              "      <td>0</td>\n",
              "      <td>165600001RS</td>\n",
              "    </tr>\n",
              "    <tr>\n",
              "      <th>3</th>\n",
              "      <td>BANCO REGIONAL DE DESENVOLVIMENTO DO EXTREMO SUL</td>\n",
              "      <td>**.*16.560/0001-**</td>\n",
              "      <td>RS</td>\n",
              "      <td>ERECHIM</td>\n",
              "      <td>4307005</td>\n",
              "      <td>2002-01-02</td>\n",
              "      <td>6304.0</td>\n",
              "      <td>6304.0</td>\n",
              "      <td>RECURSOS VINCULADOS - FAT DEPA“SITOS ESPECIAIS</td>\n",
              "      <td>TAXA FIXA</td>\n",
              "      <td>4,0</td>\n",
              "      <td>12</td>\n",
              "      <td>48</td>\n",
              "      <td>REEMBOLSAVEL</td>\n",
              "      <td>INDIRETA</td>\n",
              "      <td>BNDES AUTOMATICO</td>\n",
              "      <td>PRONAF INVESTIMENTO</td>\n",
              "      <td>NAO</td>\n",
              "      <td>AREA DE OPERACOES E CANAIS DIGITAIS</td>\n",
              "      <td>AGROPECUARIA E PESCA</td>\n",
              "      <td>AgropecuA¡ria</td>\n",
              "      <td>A0100000</td>\n",
              "      <td>AGRICULTURA, PECUARIA E SERVICOS RELACIONADOS</td>\n",
              "      <td>AGROPECUARIA</td>\n",
              "      <td>AGROPECUARIA</td>\n",
              "      <td>MICRO</td>\n",
              "      <td>PRIVADA</td>\n",
              "      <td>BANCO REGIONAL DE DESENVOLVIMENTO DO EXTREMO SUL</td>\n",
              "      <td>92.816.560.0001-37</td>\n",
              "      <td>LIQUIDADA</td>\n",
              "      <td>AUTOMATICA</td>\n",
              "      <td>6304.0</td>\n",
              "      <td>0</td>\n",
              "      <td>0</td>\n",
              "      <td>0</td>\n",
              "      <td>0</td>\n",
              "      <td>165600001RS</td>\n",
              "    </tr>\n",
              "    <tr>\n",
              "      <th>4</th>\n",
              "      <td>BANCO REGIONAL DE DESENVOLVIMENTO DO EXTREMO SUL</td>\n",
              "      <td>**.*16.560/0001-**</td>\n",
              "      <td>RS</td>\n",
              "      <td>HUMAITA</td>\n",
              "      <td>4309704</td>\n",
              "      <td>2002-01-02</td>\n",
              "      <td>15000.0</td>\n",
              "      <td>15000.0</td>\n",
              "      <td>RECURSOS VINCULADOS - FAT DEPA“SITOS ESPECIAIS</td>\n",
              "      <td>TAXA FIXA</td>\n",
              "      <td>4,0</td>\n",
              "      <td>0</td>\n",
              "      <td>60</td>\n",
              "      <td>REEMBOLSAVEL</td>\n",
              "      <td>INDIRETA</td>\n",
              "      <td>BNDES AUTOMATICO</td>\n",
              "      <td>PRONAF INVESTIMENTO</td>\n",
              "      <td>NAO</td>\n",
              "      <td>AREA DE OPERACOES E CANAIS DIGITAIS</td>\n",
              "      <td>AGROPECUARIA E PESCA</td>\n",
              "      <td>AgropecuA¡ria</td>\n",
              "      <td>A0100000</td>\n",
              "      <td>AGRICULTURA, PECUARIA E SERVICOS RELACIONADOS</td>\n",
              "      <td>AGROPECUARIA</td>\n",
              "      <td>AGROPECUARIA</td>\n",
              "      <td>MICRO</td>\n",
              "      <td>PRIVADA</td>\n",
              "      <td>BANCO REGIONAL DE DESENVOLVIMENTO DO EXTREMO SUL</td>\n",
              "      <td>92.816.560.0001-37</td>\n",
              "      <td>LIQUIDADA</td>\n",
              "      <td>AUTOMATICA</td>\n",
              "      <td>15000.0</td>\n",
              "      <td>0</td>\n",
              "      <td>0</td>\n",
              "      <td>0</td>\n",
              "      <td>0</td>\n",
              "      <td>165600001RS</td>\n",
              "    </tr>\n",
              "  </tbody>\n",
              "</table>\n",
              "</div>"
            ],
            "text/plain": [
              "                                            cliente  ...           id\n",
              "0                     BANCO COOPERATIVO SICOOB S.A.  ...  382320001SP\n",
              "1  BANCO REGIONAL DE DESENVOLVIMENTO DO EXTREMO SUL  ...  165600001RS\n",
              "2  BANCO REGIONAL DE DESENVOLVIMENTO DO EXTREMO SUL  ...  165600001RS\n",
              "3  BANCO REGIONAL DE DESENVOLVIMENTO DO EXTREMO SUL  ...  165600001RS\n",
              "4  BANCO REGIONAL DE DESENVOLVIMENTO DO EXTREMO SUL  ...  165600001RS\n",
              "\n",
              "[5 rows x 37 columns]"
            ]
          },
          "metadata": {},
          "execution_count": 4
        }
      ]
    },
    {
      "cell_type": "code",
      "metadata": {
        "colab": {
          "base_uri": "https://localhost:8080/"
        },
        "id": "ti7rXENS9CtZ",
        "outputId": "c7d6b6ad-1910-4181-987c-99759eef7e3e"
      },
      "source": [
        "df['natureza_do_cliente'].unique()"
      ],
      "execution_count": 11,
      "outputs": [
        {
          "output_type": "execute_result",
          "data": {
            "text/plain": [
              "array(['PRIVADA', 'ADMINISTRAAAO PAsBLICA DIRETA - GOVERNO MUNICIPAL',\n",
              "       'PAsBLICA INDIRETA',\n",
              "       'ADMINISTRAAAO PAsBLICA DIRETA - GOVERNO ESTADUAL',\n",
              "       'ADMINISTRAAAO PAsBLICA DIRETA - GOVERNO FEDERAL'], dtype=object)"
            ]
          },
          "metadata": {},
          "execution_count": 11
        }
      ]
    },
    {
      "cell_type": "code",
      "metadata": {
        "id": "UMqUxm8084Ik"
      },
      "source": [
        "col = ['setor_cnae', 'porte_do_cliente', 'natureza_do_cliente']"
      ],
      "execution_count": 8,
      "outputs": []
    },
    {
      "cell_type": "markdown",
      "metadata": {
        "id": "MfoLZr9S_44S"
      },
      "source": [
        "# Data Transform"
      ]
    },
    {
      "cell_type": "code",
      "metadata": {
        "id": "anJZQ6GS9SXy"
      },
      "source": [
        "data = df[col]"
      ],
      "execution_count": 24,
      "outputs": []
    },
    {
      "cell_type": "code",
      "metadata": {
        "colab": {
          "base_uri": "https://localhost:8080/",
          "height": 422
        },
        "id": "beSOg1629UJD",
        "outputId": "181ea11f-5eca-4d4f-82bc-d5f115870003"
      },
      "source": [
        "data"
      ],
      "execution_count": 10,
      "outputs": [
        {
          "output_type": "execute_result",
          "data": {
            "text/html": [
              "<div>\n",
              "<style scoped>\n",
              "    .dataframe tbody tr th:only-of-type {\n",
              "        vertical-align: middle;\n",
              "    }\n",
              "\n",
              "    .dataframe tbody tr th {\n",
              "        vertical-align: top;\n",
              "    }\n",
              "\n",
              "    .dataframe thead th {\n",
              "        text-align: right;\n",
              "    }\n",
              "</style>\n",
              "<table border=\"1\" class=\"dataframe\">\n",
              "  <thead>\n",
              "    <tr style=\"text-align: right;\">\n",
              "      <th></th>\n",
              "      <th>setor_cnae</th>\n",
              "      <th>porte_do_cliente</th>\n",
              "      <th>natureza_do_cliente</th>\n",
              "    </tr>\n",
              "  </thead>\n",
              "  <tbody>\n",
              "    <tr>\n",
              "      <th>0</th>\n",
              "      <td>AGROPECUARIA E PESCA</td>\n",
              "      <td>MICRO</td>\n",
              "      <td>PRIVADA</td>\n",
              "    </tr>\n",
              "    <tr>\n",
              "      <th>1</th>\n",
              "      <td>AGROPECUARIA E PESCA</td>\n",
              "      <td>MICRO</td>\n",
              "      <td>PRIVADA</td>\n",
              "    </tr>\n",
              "    <tr>\n",
              "      <th>2</th>\n",
              "      <td>AGROPECUARIA E PESCA</td>\n",
              "      <td>MICRO</td>\n",
              "      <td>PRIVADA</td>\n",
              "    </tr>\n",
              "    <tr>\n",
              "      <th>3</th>\n",
              "      <td>AGROPECUARIA E PESCA</td>\n",
              "      <td>MICRO</td>\n",
              "      <td>PRIVADA</td>\n",
              "    </tr>\n",
              "    <tr>\n",
              "      <th>4</th>\n",
              "      <td>AGROPECUARIA E PESCA</td>\n",
              "      <td>MICRO</td>\n",
              "      <td>PRIVADA</td>\n",
              "    </tr>\n",
              "    <tr>\n",
              "      <th>...</th>\n",
              "      <td>...</td>\n",
              "      <td>...</td>\n",
              "      <td>...</td>\n",
              "    </tr>\n",
              "    <tr>\n",
              "      <th>1928488</th>\n",
              "      <td>INDUSTRIA DE TRANSFORMAAAO</td>\n",
              "      <td>GRANDE</td>\n",
              "      <td>PRIVADA</td>\n",
              "    </tr>\n",
              "    <tr>\n",
              "      <th>1928489</th>\n",
              "      <td>INDUSTRIA DE TRANSFORMAAAO</td>\n",
              "      <td>GRANDE</td>\n",
              "      <td>PRIVADA</td>\n",
              "    </tr>\n",
              "    <tr>\n",
              "      <th>1928490</th>\n",
              "      <td>INDUSTRIA DE TRANSFORMAAAO</td>\n",
              "      <td>GRANDE</td>\n",
              "      <td>PRIVADA</td>\n",
              "    </tr>\n",
              "    <tr>\n",
              "      <th>1928491</th>\n",
              "      <td>INDUSTRIA DE TRANSFORMAAAO</td>\n",
              "      <td>GRANDE</td>\n",
              "      <td>PRIVADA</td>\n",
              "    </tr>\n",
              "    <tr>\n",
              "      <th>1928492</th>\n",
              "      <td>COMERCIO E SERVICOS</td>\n",
              "      <td>GRANDE</td>\n",
              "      <td>PRIVADA</td>\n",
              "    </tr>\n",
              "  </tbody>\n",
              "</table>\n",
              "<p>1928493 rows × 3 columns</p>\n",
              "</div>"
            ],
            "text/plain": [
              "                         setor_cnae porte_do_cliente natureza_do_cliente\n",
              "0              AGROPECUARIA E PESCA            MICRO             PRIVADA\n",
              "1              AGROPECUARIA E PESCA            MICRO             PRIVADA\n",
              "2              AGROPECUARIA E PESCA            MICRO             PRIVADA\n",
              "3              AGROPECUARIA E PESCA            MICRO             PRIVADA\n",
              "4              AGROPECUARIA E PESCA            MICRO             PRIVADA\n",
              "...                             ...              ...                 ...\n",
              "1928488  INDUSTRIA DE TRANSFORMAAAO           GRANDE             PRIVADA\n",
              "1928489  INDUSTRIA DE TRANSFORMAAAO           GRANDE             PRIVADA\n",
              "1928490  INDUSTRIA DE TRANSFORMAAAO           GRANDE             PRIVADA\n",
              "1928491  INDUSTRIA DE TRANSFORMAAAO           GRANDE             PRIVADA\n",
              "1928492         COMERCIO E SERVICOS           GRANDE             PRIVADA\n",
              "\n",
              "[1928493 rows x 3 columns]"
            ]
          },
          "metadata": {},
          "execution_count": 10
        }
      ]
    },
    {
      "cell_type": "code",
      "metadata": {
        "colab": {
          "base_uri": "https://localhost:8080/"
        },
        "id": "ld6EqLvW-Vx8",
        "outputId": "819826e9-23d3-4a32-e838-0b4d826fab4d"
      },
      "source": [
        "df['natureza_do_cliente'].unique()"
      ],
      "execution_count": 23,
      "outputs": [
        {
          "output_type": "execute_result",
          "data": {
            "text/plain": [
              "array(['PRIVADA', 'ADMINISTRAAAO PAsBLICA DIRETA - GOVERNO MUNICIPAL',\n",
              "       'PAsBLICA INDIRETA',\n",
              "       'ADMINISTRAAAO PAsBLICA DIRETA - GOVERNO ESTADUAL',\n",
              "       'ADMINISTRAAAO PAsBLICA DIRETA - GOVERNO FEDERAL'], dtype=object)"
            ]
          },
          "metadata": {},
          "execution_count": 23
        }
      ]
    },
    {
      "cell_type": "code",
      "metadata": {
        "id": "Yrf0444L9hjA"
      },
      "source": [
        "func_porte = lambda x: (0 if x == 'MICRO' else\n",
        "                        1 if x == 'PEQUENA' else\n",
        "                        2 if x == 'GRANDE' else\n",
        "                        3)\n",
        "\n",
        "func_setor = lambda x: (0 if x == 'AGROPECUARIA E PESCA' else \n",
        "                        1 if x == 'COMERCIO E SERVICOS' else \n",
        "                        2 if x == 'INDUSTRIA DE TRANSFORMAAAO' else \n",
        "                        3)\n",
        "\n",
        "func_natureza_cliente = lambda x: (0 if x == 'PRIVADA' else\n",
        "                                   1 if x == 'ADMINISTRAAAO PAsBLICA DIRETA - GOVERNO MUNICIPAL' else\n",
        "                                   2 if x == 'PAsBLICA INDIRETA' else\n",
        "                                   3 if x == 'ADMINISTRAAAO PAsBLICA DIRETA - GOVERNO ESTADUAL' else \n",
        "                                   4)"
      ],
      "execution_count": 27,
      "outputs": []
    },
    {
      "cell_type": "code",
      "metadata": {
        "id": "iOJHp7L5-uiE"
      },
      "source": [
        "data['porte_do_cliente'] = data['porte_do_cliente'].apply(func_porte)\n",
        "data['setor_cnae'] = data['setor_cnae'].apply(func_setor)\n",
        "data['natureza_do_cliente'] = data['natureza_do_cliente'].apply(func_natureza_cliente)"
      ],
      "execution_count": null,
      "outputs": []
    },
    {
      "cell_type": "code",
      "metadata": {
        "colab": {
          "base_uri": "https://localhost:8080/",
          "height": 205
        },
        "id": "kfuWNKkK-4HX",
        "outputId": "0b4823c9-fb54-41dc-8e48-d633e117128e"
      },
      "source": [
        "data.head()"
      ],
      "execution_count": 29,
      "outputs": [
        {
          "output_type": "execute_result",
          "data": {
            "text/html": [
              "<div>\n",
              "<style scoped>\n",
              "    .dataframe tbody tr th:only-of-type {\n",
              "        vertical-align: middle;\n",
              "    }\n",
              "\n",
              "    .dataframe tbody tr th {\n",
              "        vertical-align: top;\n",
              "    }\n",
              "\n",
              "    .dataframe thead th {\n",
              "        text-align: right;\n",
              "    }\n",
              "</style>\n",
              "<table border=\"1\" class=\"dataframe\">\n",
              "  <thead>\n",
              "    <tr style=\"text-align: right;\">\n",
              "      <th></th>\n",
              "      <th>setor_cnae</th>\n",
              "      <th>porte_do_cliente</th>\n",
              "      <th>natureza_do_cliente</th>\n",
              "    </tr>\n",
              "  </thead>\n",
              "  <tbody>\n",
              "    <tr>\n",
              "      <th>0</th>\n",
              "      <td>0</td>\n",
              "      <td>0</td>\n",
              "      <td>0</td>\n",
              "    </tr>\n",
              "    <tr>\n",
              "      <th>1</th>\n",
              "      <td>0</td>\n",
              "      <td>0</td>\n",
              "      <td>0</td>\n",
              "    </tr>\n",
              "    <tr>\n",
              "      <th>2</th>\n",
              "      <td>0</td>\n",
              "      <td>0</td>\n",
              "      <td>0</td>\n",
              "    </tr>\n",
              "    <tr>\n",
              "      <th>3</th>\n",
              "      <td>0</td>\n",
              "      <td>0</td>\n",
              "      <td>0</td>\n",
              "    </tr>\n",
              "    <tr>\n",
              "      <th>4</th>\n",
              "      <td>0</td>\n",
              "      <td>0</td>\n",
              "      <td>0</td>\n",
              "    </tr>\n",
              "  </tbody>\n",
              "</table>\n",
              "</div>"
            ],
            "text/plain": [
              "   setor_cnae  porte_do_cliente  natureza_do_cliente\n",
              "0           0                 0                    0\n",
              "1           0                 0                    0\n",
              "2           0                 0                    0\n",
              "3           0                 0                    0\n",
              "4           0                 0                    0"
            ]
          },
          "metadata": {},
          "execution_count": 29
        }
      ]
    },
    {
      "cell_type": "code",
      "metadata": {
        "colab": {
          "base_uri": "https://localhost:8080/"
        },
        "id": "KSLY8QYa_YWs",
        "outputId": "590e24fe-4877-43fd-ab35-d6735539ce8b"
      },
      "source": [
        "data['setor_cnae'].unique()"
      ],
      "execution_count": 20,
      "outputs": [
        {
          "output_type": "execute_result",
          "data": {
            "text/plain": [
              "array([3, 1])"
            ]
          },
          "metadata": {},
          "execution_count": 20
        }
      ]
    },
    {
      "cell_type": "markdown",
      "metadata": {
        "id": "6f8QJdYl_8ez"
      },
      "source": [
        "# Model "
      ]
    },
    {
      "cell_type": "code",
      "metadata": {
        "id": "2HOIHXuzAJ2Z"
      },
      "source": [
        "X = data.values"
      ],
      "execution_count": 31,
      "outputs": []
    },
    {
      "cell_type": "code",
      "metadata": {
        "id": "JPg2VgkgABVE"
      },
      "source": [
        "kmeans = KMeans(n_clusters=4, random_state=42).fit(X)"
      ],
      "execution_count": 33,
      "outputs": []
    },
    {
      "cell_type": "code",
      "metadata": {
        "id": "FOcrlZg4AEPM"
      },
      "source": [
        "X_clusted = kmeans.predict(X)"
      ],
      "execution_count": 34,
      "outputs": []
    },
    {
      "cell_type": "code",
      "metadata": {
        "colab": {
          "base_uri": "https://localhost:8080/"
        },
        "id": "4X9w5trsAFv8",
        "outputId": "77942a01-fbea-4d12-bfbd-61aa5a2cf702"
      },
      "source": [
        "data['label'] = X_clusted"
      ],
      "execution_count": 35,
      "outputs": [
        {
          "output_type": "stream",
          "text": [
            "/usr/local/lib/python3.7/dist-packages/ipykernel_launcher.py:1: SettingWithCopyWarning:\n",
            "\n",
            "\n",
            "A value is trying to be set on a copy of a slice from a DataFrame.\n",
            "Try using .loc[row_indexer,col_indexer] = value instead\n",
            "\n",
            "See the caveats in the documentation: https://pandas.pydata.org/pandas-docs/stable/user_guide/indexing.html#returning-a-view-versus-a-copy\n",
            "\n"
          ],
          "name": "stderr"
        }
      ]
    },
    {
      "cell_type": "code",
      "metadata": {
        "colab": {
          "base_uri": "https://localhost:8080/",
          "height": 205
        },
        "id": "z96-8T80ATTu",
        "outputId": "5eb02f9e-cc39-470f-ee61-10dbad1f6a2e"
      },
      "source": [
        "data.head()"
      ],
      "execution_count": 36,
      "outputs": [
        {
          "output_type": "execute_result",
          "data": {
            "text/html": [
              "<div>\n",
              "<style scoped>\n",
              "    .dataframe tbody tr th:only-of-type {\n",
              "        vertical-align: middle;\n",
              "    }\n",
              "\n",
              "    .dataframe tbody tr th {\n",
              "        vertical-align: top;\n",
              "    }\n",
              "\n",
              "    .dataframe thead th {\n",
              "        text-align: right;\n",
              "    }\n",
              "</style>\n",
              "<table border=\"1\" class=\"dataframe\">\n",
              "  <thead>\n",
              "    <tr style=\"text-align: right;\">\n",
              "      <th></th>\n",
              "      <th>setor_cnae</th>\n",
              "      <th>porte_do_cliente</th>\n",
              "      <th>natureza_do_cliente</th>\n",
              "      <th>label</th>\n",
              "    </tr>\n",
              "  </thead>\n",
              "  <tbody>\n",
              "    <tr>\n",
              "      <th>0</th>\n",
              "      <td>0</td>\n",
              "      <td>0</td>\n",
              "      <td>0</td>\n",
              "      <td>3</td>\n",
              "    </tr>\n",
              "    <tr>\n",
              "      <th>1</th>\n",
              "      <td>0</td>\n",
              "      <td>0</td>\n",
              "      <td>0</td>\n",
              "      <td>3</td>\n",
              "    </tr>\n",
              "    <tr>\n",
              "      <th>2</th>\n",
              "      <td>0</td>\n",
              "      <td>0</td>\n",
              "      <td>0</td>\n",
              "      <td>3</td>\n",
              "    </tr>\n",
              "    <tr>\n",
              "      <th>3</th>\n",
              "      <td>0</td>\n",
              "      <td>0</td>\n",
              "      <td>0</td>\n",
              "      <td>3</td>\n",
              "    </tr>\n",
              "    <tr>\n",
              "      <th>4</th>\n",
              "      <td>0</td>\n",
              "      <td>0</td>\n",
              "      <td>0</td>\n",
              "      <td>3</td>\n",
              "    </tr>\n",
              "  </tbody>\n",
              "</table>\n",
              "</div>"
            ],
            "text/plain": [
              "   setor_cnae  porte_do_cliente  natureza_do_cliente  label\n",
              "0           0                 0                    0      3\n",
              "1           0                 0                    0      3\n",
              "2           0                 0                    0      3\n",
              "3           0                 0                    0      3\n",
              "4           0                 0                    0      3"
            ]
          },
          "metadata": {},
          "execution_count": 36
        }
      ]
    },
    {
      "cell_type": "code",
      "metadata": {
        "colab": {
          "base_uri": "https://localhost:8080/"
        },
        "id": "yDzkdyAdAZOK",
        "outputId": "417aac56-3acb-46bd-aae3-0c47be004581"
      },
      "source": [
        " data.groupby('setor_cnae')['label'].value_counts()"
      ],
      "execution_count": 37,
      "outputs": [
        {
          "output_type": "execute_result",
          "data": {
            "text/plain": [
              "setor_cnae  label\n",
              "0           3        265377\n",
              "            1         28494\n",
              "1           0        567296\n",
              "            1        412486\n",
              "            2        333976\n",
              "2           1        172384\n",
              "            0         69186\n",
              "            2         64814\n",
              "3           1          6051\n",
              "            2          4312\n",
              "            0          4117\n",
              "Name: label, dtype: int64"
            ]
          },
          "metadata": {},
          "execution_count": 37
        }
      ]
    },
    {
      "cell_type": "code",
      "metadata": {
        "id": "BOwKEVh0Ale1"
      },
      "source": [
        ""
      ],
      "execution_count": null,
      "outputs": []
    }
  ]
}
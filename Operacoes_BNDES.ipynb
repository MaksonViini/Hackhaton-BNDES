{
  "nbformat": 4,
  "nbformat_minor": 0,
  "metadata": {
    "colab": {
      "name": "Operacoes BNDES.ipynb",
      "provenance": [],
      "collapsed_sections": [],
      "authorship_tag": "ABX9TyO+2iThypx1PXWIWzxgGOYH",
      "include_colab_link": true
    },
    "kernelspec": {
      "display_name": "Python 3",
      "name": "python3"
    },
    "language_info": {
      "name": "python"
    },
    "accelerator": "GPU"
  },
  "cells": [
    {
      "cell_type": "markdown",
      "metadata": {
        "id": "view-in-github",
        "colab_type": "text"
      },
      "source": [
        "<a href=\"https://colab.research.google.com/github/MaksonViini/Hackhaton-BNDES/blob/develop/Operacoes_BNDES.ipynb\" target=\"_parent\"><img src=\"https://colab.research.google.com/assets/colab-badge.svg\" alt=\"Open In Colab\"/></a>"
      ]
    },
    {
      "cell_type": "code",
      "metadata": {
        "id": "q5y4vpnqGFRy",
        "colab": {
          "base_uri": "https://localhost:8080/"
        },
        "outputId": "4086c9df-f160-4103-ea07-6b4607857ccc"
      },
      "source": [
        "from google.colab import drive\n",
        "drive.mount('/content/drive')"
      ],
      "execution_count": null,
      "outputs": [
        {
          "output_type": "stream",
          "text": [
            "Drive already mounted at /content/drive; to attempt to forcibly remount, call drive.mount(\"/content/drive\", force_remount=True).\n"
          ],
          "name": "stdout"
        }
      ]
    },
    {
      "cell_type": "code",
      "metadata": {
        "id": "3rzX5ZC20Eng"
      },
      "source": [
        "import pandas as pd\n",
        "import numpy as np\n",
        "\n",
        "import matplotlib.pyplot as plt\n",
        "import seaborn as sns\n",
        "\n",
        "import plotly.express as px\n",
        "import plotly.graph_objects as go\n",
        "from sklearn.preprocessing import OrdinalEncoder\n",
        "from sklearn.preprocessing import OneHotEncoder"
      ],
      "execution_count": null,
      "outputs": []
    },
    {
      "cell_type": "code",
      "metadata": {
        "id": "yT2N8UWzztAp"
      },
      "source": [
        "df = pd.read_parquet('/content/drive/Shareddrives/bndes-arquivos/operacoes.parquet')\n",
        "# df_ativos = pd.read_parquet('/content/drive/Shareddrives/bndes-arquivos/cnpj_ativas.parquet')"
      ],
      "execution_count": null,
      "outputs": []
    },
    {
      "cell_type": "code",
      "metadata": {
        "id": "mIFypLa15G3v"
      },
      "source": [
        "df_ativos.head()"
      ],
      "execution_count": null,
      "outputs": []
    },
    {
      "cell_type": "code",
      "metadata": {
        "colab": {
          "base_uri": "https://localhost:8080/",
          "height": 485
        },
        "id": "2ThyXcUI0InZ",
        "outputId": "db522333-e7df-4ef1-80e1-cc85f21f26a6"
      },
      "source": [
        "df.head()"
      ],
      "execution_count": null,
      "outputs": [
        {
          "output_type": "execute_result",
          "data": {
            "text/html": [
              "<div>\n",
              "<style scoped>\n",
              "    .dataframe tbody tr th:only-of-type {\n",
              "        vertical-align: middle;\n",
              "    }\n",
              "\n",
              "    .dataframe tbody tr th {\n",
              "        vertical-align: top;\n",
              "    }\n",
              "\n",
              "    .dataframe thead th {\n",
              "        text-align: right;\n",
              "    }\n",
              "</style>\n",
              "<table border=\"1\" class=\"dataframe\">\n",
              "  <thead>\n",
              "    <tr style=\"text-align: right;\">\n",
              "      <th></th>\n",
              "      <th>cliente</th>\n",
              "      <th>cnpj</th>\n",
              "      <th>uf</th>\n",
              "      <th>municipio</th>\n",
              "      <th>municipio_codigo</th>\n",
              "      <th>data_da_contratacao</th>\n",
              "      <th>valor_em_reais</th>\n",
              "      <th>valor_desembolsado_reais</th>\n",
              "      <th>fonte_de_recurso_desembolsos</th>\n",
              "      <th>custo_financeiro</th>\n",
              "      <th>juros</th>\n",
              "      <th>prazo_carencia_meses</th>\n",
              "      <th>prazo_amortizacao_meses</th>\n",
              "      <th>modalidade_de_apoio</th>\n",
              "      <th>forma_de_apoio</th>\n",
              "      <th>produto</th>\n",
              "      <th>instrumento_financeiro</th>\n",
              "      <th>inovacao</th>\n",
              "      <th>area_operacional</th>\n",
              "      <th>setor_cnae</th>\n",
              "      <th>subsetor_cnae_agrupado</th>\n",
              "      <th>subsetor_cnae_codigo</th>\n",
              "      <th>subsetor_cnae_nome</th>\n",
              "      <th>setor_bndes</th>\n",
              "      <th>subsetor_bndes</th>\n",
              "      <th>porte_do_cliente</th>\n",
              "      <th>natureza_do_cliente</th>\n",
              "      <th>instituicao_financeira_credenciada</th>\n",
              "      <th>cnpj_do_agente_financeiro</th>\n",
              "      <th>situacao</th>\n",
              "      <th>origem</th>\n",
              "      <th>valor_contratado_reais</th>\n",
              "      <th>descricao_do_projeto</th>\n",
              "      <th>numero_do_contrato</th>\n",
              "      <th>tipo_de_garantia</th>\n",
              "      <th>tipo_de_excepcionalidade</th>\n",
              "      <th>id</th>\n",
              "    </tr>\n",
              "  </thead>\n",
              "  <tbody>\n",
              "    <tr>\n",
              "      <th>0</th>\n",
              "      <td>BANCO COOPERATIVO SICOOB S.A.</td>\n",
              "      <td>**.*38.232/0001-**</td>\n",
              "      <td>SP</td>\n",
              "      <td>PEDREGULHO</td>\n",
              "      <td>3537008</td>\n",
              "      <td>2002-01-02</td>\n",
              "      <td>16000.0</td>\n",
              "      <td>16000.0</td>\n",
              "      <td>RECURSOS LIVRES - TESOURO</td>\n",
              "      <td>TAXA FIXA</td>\n",
              "      <td>8,75</td>\n",
              "      <td>24</td>\n",
              "      <td>36</td>\n",
              "      <td>REEMBOLSAVEL</td>\n",
              "      <td>INDIRETA</td>\n",
              "      <td>BNDES AUTOMATICO</td>\n",
              "      <td>OUTROS</td>\n",
              "      <td>NAO</td>\n",
              "      <td>AREA DE OPERACOES E CANAIS DIGITAIS</td>\n",
              "      <td>AGROPECUARIA E PESCA</td>\n",
              "      <td>AgropecuA¡ria</td>\n",
              "      <td>A0119900</td>\n",
              "      <td>CULT PLANTAS LAVOURA TEMPORARIA NAO ESPECIFICA...</td>\n",
              "      <td>AGROPECUARIA</td>\n",
              "      <td>AGROPECUARIA</td>\n",
              "      <td>MICRO</td>\n",
              "      <td>PRIVADA</td>\n",
              "      <td>BANCO COOPERATIVO SICOOB S.A.</td>\n",
              "      <td>02.038.232.0001-64</td>\n",
              "      <td>LIQUIDADA</td>\n",
              "      <td>AUTOMATICA</td>\n",
              "      <td>16000.0</td>\n",
              "      <td>0</td>\n",
              "      <td>0</td>\n",
              "      <td>0</td>\n",
              "      <td>0</td>\n",
              "      <td>382320001SP</td>\n",
              "    </tr>\n",
              "    <tr>\n",
              "      <th>1</th>\n",
              "      <td>BANCO REGIONAL DE DESENVOLVIMENTO DO EXTREMO SUL</td>\n",
              "      <td>**.*16.560/0001-**</td>\n",
              "      <td>RS</td>\n",
              "      <td>TRES DE MAIO</td>\n",
              "      <td>4321808</td>\n",
              "      <td>2002-01-02</td>\n",
              "      <td>8047.0</td>\n",
              "      <td>8047.0</td>\n",
              "      <td>RECURSOS VINCULADOS - FAT DEPA“SITOS ESPECIAIS</td>\n",
              "      <td>TAXA FIXA</td>\n",
              "      <td>4,0</td>\n",
              "      <td>0</td>\n",
              "      <td>60</td>\n",
              "      <td>REEMBOLSAVEL</td>\n",
              "      <td>INDIRETA</td>\n",
              "      <td>BNDES AUTOMATICO</td>\n",
              "      <td>PRONAF INVESTIMENTO</td>\n",
              "      <td>NAO</td>\n",
              "      <td>AREA DE OPERACOES E CANAIS DIGITAIS</td>\n",
              "      <td>AGROPECUARIA E PESCA</td>\n",
              "      <td>AgropecuA¡ria</td>\n",
              "      <td>A0100000</td>\n",
              "      <td>AGRICULTURA, PECUARIA E SERVICOS RELACIONADOS</td>\n",
              "      <td>AGROPECUARIA</td>\n",
              "      <td>AGROPECUARIA</td>\n",
              "      <td>MICRO</td>\n",
              "      <td>PRIVADA</td>\n",
              "      <td>BANCO REGIONAL DE DESENVOLVIMENTO DO EXTREMO SUL</td>\n",
              "      <td>92.816.560.0001-37</td>\n",
              "      <td>LIQUIDADA</td>\n",
              "      <td>AUTOMATICA</td>\n",
              "      <td>8047.0</td>\n",
              "      <td>0</td>\n",
              "      <td>0</td>\n",
              "      <td>0</td>\n",
              "      <td>0</td>\n",
              "      <td>165600001RS</td>\n",
              "    </tr>\n",
              "    <tr>\n",
              "      <th>2</th>\n",
              "      <td>BANCO REGIONAL DE DESENVOLVIMENTO DO EXTREMO SUL</td>\n",
              "      <td>**.*16.560/0001-**</td>\n",
              "      <td>RS</td>\n",
              "      <td>ERECHIM</td>\n",
              "      <td>4307005</td>\n",
              "      <td>2002-01-02</td>\n",
              "      <td>8104.0</td>\n",
              "      <td>8104.0</td>\n",
              "      <td>RECURSOS VINCULADOS - FAT DEPA“SITOS ESPECIAIS</td>\n",
              "      <td>TAXA FIXA</td>\n",
              "      <td>4,0</td>\n",
              "      <td>12</td>\n",
              "      <td>48</td>\n",
              "      <td>REEMBOLSAVEL</td>\n",
              "      <td>INDIRETA</td>\n",
              "      <td>BNDES AUTOMATICO</td>\n",
              "      <td>PRONAF INVESTIMENTO</td>\n",
              "      <td>NAO</td>\n",
              "      <td>AREA DE OPERACOES E CANAIS DIGITAIS</td>\n",
              "      <td>AGROPECUARIA E PESCA</td>\n",
              "      <td>AgropecuA¡ria</td>\n",
              "      <td>A0100000</td>\n",
              "      <td>AGRICULTURA, PECUARIA E SERVICOS RELACIONADOS</td>\n",
              "      <td>AGROPECUARIA</td>\n",
              "      <td>AGROPECUARIA</td>\n",
              "      <td>MICRO</td>\n",
              "      <td>PRIVADA</td>\n",
              "      <td>BANCO REGIONAL DE DESENVOLVIMENTO DO EXTREMO SUL</td>\n",
              "      <td>92.816.560.0001-37</td>\n",
              "      <td>LIQUIDADA</td>\n",
              "      <td>AUTOMATICA</td>\n",
              "      <td>8104.0</td>\n",
              "      <td>0</td>\n",
              "      <td>0</td>\n",
              "      <td>0</td>\n",
              "      <td>0</td>\n",
              "      <td>165600001RS</td>\n",
              "    </tr>\n",
              "    <tr>\n",
              "      <th>3</th>\n",
              "      <td>BANCO REGIONAL DE DESENVOLVIMENTO DO EXTREMO SUL</td>\n",
              "      <td>**.*16.560/0001-**</td>\n",
              "      <td>RS</td>\n",
              "      <td>ERECHIM</td>\n",
              "      <td>4307005</td>\n",
              "      <td>2002-01-02</td>\n",
              "      <td>6304.0</td>\n",
              "      <td>6304.0</td>\n",
              "      <td>RECURSOS VINCULADOS - FAT DEPA“SITOS ESPECIAIS</td>\n",
              "      <td>TAXA FIXA</td>\n",
              "      <td>4,0</td>\n",
              "      <td>12</td>\n",
              "      <td>48</td>\n",
              "      <td>REEMBOLSAVEL</td>\n",
              "      <td>INDIRETA</td>\n",
              "      <td>BNDES AUTOMATICO</td>\n",
              "      <td>PRONAF INVESTIMENTO</td>\n",
              "      <td>NAO</td>\n",
              "      <td>AREA DE OPERACOES E CANAIS DIGITAIS</td>\n",
              "      <td>AGROPECUARIA E PESCA</td>\n",
              "      <td>AgropecuA¡ria</td>\n",
              "      <td>A0100000</td>\n",
              "      <td>AGRICULTURA, PECUARIA E SERVICOS RELACIONADOS</td>\n",
              "      <td>AGROPECUARIA</td>\n",
              "      <td>AGROPECUARIA</td>\n",
              "      <td>MICRO</td>\n",
              "      <td>PRIVADA</td>\n",
              "      <td>BANCO REGIONAL DE DESENVOLVIMENTO DO EXTREMO SUL</td>\n",
              "      <td>92.816.560.0001-37</td>\n",
              "      <td>LIQUIDADA</td>\n",
              "      <td>AUTOMATICA</td>\n",
              "      <td>6304.0</td>\n",
              "      <td>0</td>\n",
              "      <td>0</td>\n",
              "      <td>0</td>\n",
              "      <td>0</td>\n",
              "      <td>165600001RS</td>\n",
              "    </tr>\n",
              "    <tr>\n",
              "      <th>4</th>\n",
              "      <td>BANCO REGIONAL DE DESENVOLVIMENTO DO EXTREMO SUL</td>\n",
              "      <td>**.*16.560/0001-**</td>\n",
              "      <td>RS</td>\n",
              "      <td>HUMAITA</td>\n",
              "      <td>4309704</td>\n",
              "      <td>2002-01-02</td>\n",
              "      <td>15000.0</td>\n",
              "      <td>15000.0</td>\n",
              "      <td>RECURSOS VINCULADOS - FAT DEPA“SITOS ESPECIAIS</td>\n",
              "      <td>TAXA FIXA</td>\n",
              "      <td>4,0</td>\n",
              "      <td>0</td>\n",
              "      <td>60</td>\n",
              "      <td>REEMBOLSAVEL</td>\n",
              "      <td>INDIRETA</td>\n",
              "      <td>BNDES AUTOMATICO</td>\n",
              "      <td>PRONAF INVESTIMENTO</td>\n",
              "      <td>NAO</td>\n",
              "      <td>AREA DE OPERACOES E CANAIS DIGITAIS</td>\n",
              "      <td>AGROPECUARIA E PESCA</td>\n",
              "      <td>AgropecuA¡ria</td>\n",
              "      <td>A0100000</td>\n",
              "      <td>AGRICULTURA, PECUARIA E SERVICOS RELACIONADOS</td>\n",
              "      <td>AGROPECUARIA</td>\n",
              "      <td>AGROPECUARIA</td>\n",
              "      <td>MICRO</td>\n",
              "      <td>PRIVADA</td>\n",
              "      <td>BANCO REGIONAL DE DESENVOLVIMENTO DO EXTREMO SUL</td>\n",
              "      <td>92.816.560.0001-37</td>\n",
              "      <td>LIQUIDADA</td>\n",
              "      <td>AUTOMATICA</td>\n",
              "      <td>15000.0</td>\n",
              "      <td>0</td>\n",
              "      <td>0</td>\n",
              "      <td>0</td>\n",
              "      <td>0</td>\n",
              "      <td>165600001RS</td>\n",
              "    </tr>\n",
              "  </tbody>\n",
              "</table>\n",
              "</div>"
            ],
            "text/plain": [
              "                                            cliente  ...           id\n",
              "0                     BANCO COOPERATIVO SICOOB S.A.  ...  382320001SP\n",
              "1  BANCO REGIONAL DE DESENVOLVIMENTO DO EXTREMO SUL  ...  165600001RS\n",
              "2  BANCO REGIONAL DE DESENVOLVIMENTO DO EXTREMO SUL  ...  165600001RS\n",
              "3  BANCO REGIONAL DE DESENVOLVIMENTO DO EXTREMO SUL  ...  165600001RS\n",
              "4  BANCO REGIONAL DE DESENVOLVIMENTO DO EXTREMO SUL  ...  165600001RS\n",
              "\n",
              "[5 rows x 37 columns]"
            ]
          },
          "metadata": {},
          "execution_count": 5
        }
      ]
    },
    {
      "cell_type": "code",
      "metadata": {
        "colab": {
          "base_uri": "https://localhost:8080/"
        },
        "id": "oDy_tTDHBl4g",
        "outputId": "41871e32-4098-4f8c-dc0f-2fc144b5de02"
      },
      "source": [
        "df['natureza_do_cliente'].unique()"
      ],
      "execution_count": null,
      "outputs": [
        {
          "output_type": "execute_result",
          "data": {
            "text/plain": [
              "array(['PRIVADA', 'ADMINISTRAÃ‡ÃƒO PÃšBLICA DIRETA - GOVERNO MUNICIPAL',\n",
              "       'PÃšBLICA INDIRETA',\n",
              "       'ADMINISTRAÃ‡ÃƒO PÃšBLICA DIRETA - GOVERNO ESTADUAL',\n",
              "       'ADMINISTRAÃ‡ÃƒO PÃšBLICA DIRETA - GOVERNO FEDERAL'], dtype=object)"
            ]
          },
          "metadata": {},
          "execution_count": 15
        }
      ]
    },
    {
      "cell_type": "code",
      "metadata": {
        "id": "sjwkn41G0vRe"
      },
      "source": [
        "data = df.copy()"
      ],
      "execution_count": null,
      "outputs": []
    },
    {
      "cell_type": "markdown",
      "metadata": {
        "id": "Gtx-Juo-Cjjl"
      },
      "source": [
        "## OneHot"
      ]
    },
    {
      "cell_type": "code",
      "metadata": {
        "id": "0iS0tVUwCoNW"
      },
      "source": [
        "# X = data[['setor_cnae', 'porte_do_cliente']]\n",
        "# enc = OrdinalEncoder().fit(X)\n",
        "# data[['setor_cnae', 'porte_do_cliente']] = enc.transform(X)"
      ],
      "execution_count": null,
      "outputs": []
    },
    {
      "cell_type": "code",
      "metadata": {
        "id": "1bifzKbJqLqW"
      },
      "source": [
        "data['juros'] = data['juros'].apply(lambda x: x.replace(',', '.'))"
      ],
      "execution_count": null,
      "outputs": []
    },
    {
      "cell_type": "code",
      "metadata": {
        "id": "YfAG1dlPuxwz"
      },
      "source": [
        "func_porte = lambda x: (0 if x == 'MICRO' else\n",
        "  1 if x == 'PEQUENA' else\n",
        "  2 if x == 'GRANDE' else\n",
        "  3)\n",
        "\n",
        "func_setor = lambda x: (0 if x == 'AGROPECUÃ�RIA E PESCA' else \n",
        "                        1 if x == 'COMERCIO E SERVICOS' else \n",
        "                        2 if x == 'INDUSTRIA DE TRANSFORMAÃ‡ÃƒO' else \n",
        "                        3)"
      ],
      "execution_count": null,
      "outputs": []
    },
    {
      "cell_type": "code",
      "metadata": {
        "id": "dEnKSCMat-Be"
      },
      "source": [
        "data['porte_do_cliente'] = data['porte_do_cliente'].apply(func_porte)\n",
        "data['setor_cnae'] = data['setor_cnae'].apply(func_setor)"
      ],
      "execution_count": null,
      "outputs": []
    },
    {
      "cell_type": "code",
      "metadata": {
        "colab": {
          "base_uri": "https://localhost:8080/"
        },
        "id": "41NNSD39sM3c",
        "outputId": "357518cb-1d88-4640-b072-465775c69aeb"
      },
      "source": [
        "df['setor_cnae'].unique()"
      ],
      "execution_count": null,
      "outputs": [
        {
          "output_type": "execute_result",
          "data": {
            "text/plain": [
              "array(['AGROPECUÃ�RIA E PESCA', 'COMERCIO E SERVICOS',\n",
              "       'INDUSTRIA DE TRANSFORMAÃ‡ÃƒO', 'INDUSTRIA EXTRATIVA'],\n",
              "      dtype=object)"
            ]
          },
          "metadata": {},
          "execution_count": 104
        }
      ]
    },
    {
      "cell_type": "code",
      "metadata": {
        "colab": {
          "base_uri": "https://localhost:8080/"
        },
        "id": "5SJAFQMpmLvQ",
        "outputId": "7234ec12-a5fe-4d98-c54f-e2f652f77a98"
      },
      "source": [
        "data['porte_do_cliente'].unique()"
      ],
      "execution_count": null,
      "outputs": [
        {
          "output_type": "execute_result",
          "data": {
            "text/plain": [
              "array([0, 1, 2, 3])"
            ]
          },
          "metadata": {},
          "execution_count": 123
        }
      ]
    },
    {
      "cell_type": "code",
      "metadata": {
        "colab": {
          "base_uri": "https://localhost:8080/"
        },
        "id": "rTj1C3BF7iZr",
        "outputId": "ef6c20c1-fd97-4dba-b8bb-073454096d0a"
      },
      "source": [
        "data.shape"
      ],
      "execution_count": null,
      "outputs": [
        {
          "output_type": "execute_result",
          "data": {
            "text/plain": [
              "(2102928, 34)"
            ]
          },
          "metadata": {
            "tags": []
          },
          "execution_count": 115
        }
      ]
    },
    {
      "cell_type": "code",
      "metadata": {
        "colab": {
          "base_uri": "https://localhost:8080/"
        },
        "id": "As9zaoz7K8A2",
        "outputId": "bb48f31b-9acd-48f5-e2f7-c9e4f681e653"
      },
      "source": [
        "data['produto'].unique()"
      ],
      "execution_count": null,
      "outputs": [
        {
          "output_type": "execute_result",
          "data": {
            "text/plain": [
              "array(['BNDES AUTOMÃ�TICO', 'BNDES FINAME', 'BNDES FINAME AGRÃ�COLA',\n",
              "       'BNDES FINAME LEASING', 'BNDES FINEM', 'BNDES NÃƒO REEMBOLSÃ�VEL',\n",
              "       'BNDES PROJECT FINANCE', 'BNDES EMPRÃ‰STIMO PONTE',\n",
              "       'BNDES DEBENTURES SIMPLES', 'OUTROS', 'BNDES LIMITE DE CRÃ‰DITO',\n",
              "       'OPERAÃ‡ÃƒO FINANCEIRA', 'BNDES EXIM PÃ“S-EMBARQUE',\n",
              "       'BNDES MICROCRÃ‰DITO', 'BNDES RENEGOCIAÃ‡ÃƒO',\n",
              "       'BNDES CRÃ‰DITO DIRETO MÃ‰DIAS EMPRESAS', 'BNDES DIRETO 10',\n",
              "       'BNDES DEBENTURES SUSTENTAVEIS E DE INFRAESTRUTURA'], dtype=object)"
            ]
          },
          "metadata": {
            "tags": []
          },
          "execution_count": 45
        }
      ]
    },
    {
      "cell_type": "code",
      "metadata": {
        "colab": {
          "base_uri": "https://localhost:8080/"
        },
        "id": "_hwI9mTz2if-",
        "outputId": "94375045-d78f-48f4-bf82-476d85d6bf91"
      },
      "source": [
        "(data.isna().sum() / data.shape[0]).sort_values(ascending=False) * 100"
      ],
      "execution_count": null,
      "outputs": [
        {
          "output_type": "execute_result",
          "data": {
            "text/plain": [
              "valor_contratado_reais                0.930369\n",
              "valor_desembolsado_reais              0.139662\n",
              "fonte_de_recurso_desembolsos          0.000000\n",
              "forma_de_apoio                        0.000000\n",
              "modalidade_de_apoio                   0.000000\n",
              "prazo_amortizacao_meses               0.000000\n",
              "prazo_carencia_meses                  0.000000\n",
              "juros                                 0.000000\n",
              "custo_financeiro                      0.000000\n",
              "tipo_de_excepcionalidade              0.000000\n",
              "instrumento_financeiro                0.000000\n",
              "valor_em_reais                        0.000000\n",
              "data_da_contratacao                   0.000000\n",
              "municipio_codigo                      0.000000\n",
              "municipio                             0.000000\n",
              "uf                                    0.000000\n",
              "cnpj                                  0.000000\n",
              "produto                               0.000000\n",
              "inovacao                              0.000000\n",
              "tipo_de_garantia                      0.000000\n",
              "natureza_do_cliente                   0.000000\n",
              "numero_do_contrato                    0.000000\n",
              "descricao_do_projeto                  0.000000\n",
              "origem                                0.000000\n",
              "situacao                              0.000000\n",
              "cnpj_do_agente_financeiro             0.000000\n",
              "instituicao_financeira_credenciada    0.000000\n",
              "porte_do_cliente                      0.000000\n",
              "area_operacional                      0.000000\n",
              "subsetor_bndes                        0.000000\n",
              "setor_bndes                           0.000000\n",
              "subsetor_cnae_nome                    0.000000\n",
              "subsetor_cnae_codigo                  0.000000\n",
              "subsetor_cnae_agrupado                0.000000\n",
              "setor_cnae                            0.000000\n",
              "cliente                               0.000000\n",
              "dtype: float64"
            ]
          },
          "metadata": {
            "tags": []
          },
          "execution_count": 52
        }
      ]
    },
    {
      "cell_type": "code",
      "metadata": {
        "colab": {
          "base_uri": "https://localhost:8080/"
        },
        "id": "TFs9WzeGMaRZ",
        "outputId": "6db69e5e-0387-4297-e2f7-b15727ed77a5"
      },
      "source": [
        "df.columns"
      ],
      "execution_count": null,
      "outputs": [
        {
          "output_type": "execute_result",
          "data": {
            "text/plain": [
              "Index(['cliente', 'cnpj', 'uf', 'municipio', 'municipio_codigo',\n",
              "       'data_da_contratacao', 'valor_em_reais', 'valor_desembolsado_reais',\n",
              "       'fonte_de_recurso_desembolsos', 'custo_financeiro', 'juros',\n",
              "       'prazo_carencia_meses', 'prazo_amortizacao_meses',\n",
              "       'modalidade_de_apoio', 'forma_de_apoio', 'produto',\n",
              "       'instrumento_financeiro', 'inovacao', 'area_operacional', 'setor_cnae',\n",
              "       'subsetor_cnae_agrupado', 'subsetor_cnae_codigo', 'subsetor_cnae_nome',\n",
              "       'setor_bndes', 'subsetor_bndes', 'porte_do_cliente',\n",
              "       'natureza_do_cliente', 'instituicao_financeira_credenciada',\n",
              "       'cnpj_do_agente_financeiro', 'situacao', 'origem',\n",
              "       'valor_contratado_reais', 'descricao_do_projeto', 'numero_do_contrato',\n",
              "       'tipo_de_garantia', 'tipo_de_excepcionalidade'],\n",
              "      dtype='object')"
            ]
          },
          "metadata": {},
          "execution_count": 89
        }
      ]
    },
    {
      "cell_type": "code",
      "metadata": {
        "id": "AuUgdp3q53en"
      },
      "source": [
        "data = data.drop(['valor_desembolsado_reais', 'valor_contratado_reais'], axis=1)"
      ],
      "execution_count": null,
      "outputs": []
    },
    {
      "cell_type": "code",
      "metadata": {
        "colab": {
          "base_uri": "https://localhost:8080/"
        },
        "id": "_WsFUDBlODoD",
        "outputId": "492e9390-25f6-45ac-f12c-8c01d932ead5"
      },
      "source": [
        "data['juros'].astype(np.number)"
      ],
      "execution_count": null,
      "outputs": [
        {
          "output_type": "execute_result",
          "data": {
            "text/plain": [
              "0          8.75\n",
              "1          4.00\n",
              "2          4.00\n",
              "3          4.00\n",
              "4          4.00\n",
              "           ... \n",
              "2102923    1.39\n",
              "2102924    1.39\n",
              "2102925    1.39\n",
              "2102926    1.39\n",
              "2102927    5.05\n",
              "Name: juros, Length: 2102928, dtype: float64"
            ]
          },
          "metadata": {},
          "execution_count": 11
        }
      ]
    },
    {
      "cell_type": "code",
      "metadata": {
        "id": "pkj2M_7nMeSS"
      },
      "source": [
        "columns = ['setor_cnae', 'porte_do_cliente']"
      ],
      "execution_count": null,
      "outputs": []
    },
    {
      "cell_type": "code",
      "metadata": {
        "id": "hJDh8OxK2mMb"
      },
      "source": [
        "X = data[columns].values"
      ],
      "execution_count": null,
      "outputs": []
    },
    {
      "cell_type": "markdown",
      "metadata": {
        "id": "mAKsUg0u2zdy"
      },
      "source": [
        "# Clusterizacao Setor CNAE X Porte do cliente"
      ]
    },
    {
      "cell_type": "code",
      "metadata": {
        "id": "Gkqf8hmZ2zFJ"
      },
      "source": [
        "from sklearn.cluster import KMeans"
      ],
      "execution_count": null,
      "outputs": []
    },
    {
      "cell_type": "code",
      "metadata": {
        "id": "2YuuSekG2wak"
      },
      "source": [
        "kmeans = KMeans(n_clusters=4, random_state=42).fit(X)"
      ],
      "execution_count": null,
      "outputs": []
    },
    {
      "cell_type": "code",
      "metadata": {
        "id": "L2bW4WNhHmVo"
      },
      "source": [
        "X_clusted = kmeans.predict(X)"
      ],
      "execution_count": null,
      "outputs": []
    },
    {
      "cell_type": "code",
      "metadata": {
        "colab": {
          "base_uri": "https://localhost:8080/"
        },
        "id": "XMtvXscoHvpb",
        "outputId": "2c662495-f490-4652-f050-f782799869f3"
      },
      "source": [
        "X_clusted"
      ],
      "execution_count": null,
      "outputs": [
        {
          "output_type": "execute_result",
          "data": {
            "text/plain": [
              "array([3, 3, 3, ..., 1, 1, 1], dtype=int32)"
            ]
          },
          "metadata": {},
          "execution_count": 129
        }
      ]
    },
    {
      "cell_type": "code",
      "metadata": {
        "id": "_8tmndK7IETy"
      },
      "source": [
        "data['Cluster'] = X_clusted"
      ],
      "execution_count": null,
      "outputs": []
    },
    {
      "cell_type": "code",
      "metadata": {
        "id": "BdEJXkBBmjI_"
      },
      "source": [
        "columns = ['setor_cnae', 'porte_do_cliente', 'Cluster']"
      ],
      "execution_count": null,
      "outputs": []
    },
    {
      "cell_type": "code",
      "metadata": {
        "id": "dQ2_ifbXIRUu"
      },
      "source": [
        "df1 = data[columns]"
      ],
      "execution_count": null,
      "outputs": []
    },
    {
      "cell_type": "code",
      "metadata": {
        "id": "REUBs8AemwCW"
      },
      "source": [
        "df1[['setor_cnae', 'porte_do_cliente']] = enc.inverse_transform(data[['setor_cnae', 'porte_do_cliente']])"
      ],
      "execution_count": null,
      "outputs": []
    },
    {
      "cell_type": "code",
      "metadata": {
        "colab": {
          "base_uri": "https://localhost:8080/",
          "height": 205
        },
        "id": "HO1PVCQDm3rW",
        "outputId": "038be889-f703-474b-b653-e6ed768bbcf9"
      },
      "source": [
        "df1.head()"
      ],
      "execution_count": null,
      "outputs": [
        {
          "output_type": "execute_result",
          "data": {
            "text/html": [
              "<div>\n",
              "<style scoped>\n",
              "    .dataframe tbody tr th:only-of-type {\n",
              "        vertical-align: middle;\n",
              "    }\n",
              "\n",
              "    .dataframe tbody tr th {\n",
              "        vertical-align: top;\n",
              "    }\n",
              "\n",
              "    .dataframe thead th {\n",
              "        text-align: right;\n",
              "    }\n",
              "</style>\n",
              "<table border=\"1\" class=\"dataframe\">\n",
              "  <thead>\n",
              "    <tr style=\"text-align: right;\">\n",
              "      <th></th>\n",
              "      <th>setor_cnae</th>\n",
              "      <th>porte_do_cliente</th>\n",
              "      <th>Cluster</th>\n",
              "    </tr>\n",
              "  </thead>\n",
              "  <tbody>\n",
              "    <tr>\n",
              "      <th>0</th>\n",
              "      <td>0</td>\n",
              "      <td>0</td>\n",
              "      <td>3</td>\n",
              "    </tr>\n",
              "    <tr>\n",
              "      <th>1</th>\n",
              "      <td>0</td>\n",
              "      <td>0</td>\n",
              "      <td>3</td>\n",
              "    </tr>\n",
              "    <tr>\n",
              "      <th>2</th>\n",
              "      <td>0</td>\n",
              "      <td>0</td>\n",
              "      <td>3</td>\n",
              "    </tr>\n",
              "    <tr>\n",
              "      <th>3</th>\n",
              "      <td>0</td>\n",
              "      <td>0</td>\n",
              "      <td>3</td>\n",
              "    </tr>\n",
              "    <tr>\n",
              "      <th>4</th>\n",
              "      <td>0</td>\n",
              "      <td>0</td>\n",
              "      <td>3</td>\n",
              "    </tr>\n",
              "  </tbody>\n",
              "</table>\n",
              "</div>"
            ],
            "text/plain": [
              "   setor_cnae  porte_do_cliente  Cluster\n",
              "0           0                 0        3\n",
              "1           0                 0        3\n",
              "2           0                 0        3\n",
              "3           0                 0        3\n",
              "4           0                 0        3"
            ]
          },
          "metadata": {},
          "execution_count": 134
        }
      ]
    },
    {
      "cell_type": "markdown",
      "metadata": {
        "id": "obrHhi2eLZtT"
      },
      "source": [
        "### Analise Setor x Porte"
      ]
    },
    {
      "cell_type": "code",
      "metadata": {
        "colab": {
          "base_uri": "https://localhost:8080/",
          "height": 175
        },
        "id": "6HVAQdLKI1Wf",
        "outputId": "008f3316-b23b-4a8d-cf39-89f0c1224607"
      },
      "source": [
        "data.groupby('Cluster')['valor_em_reais'].mean().reset_index().round(2)"
      ],
      "execution_count": null,
      "outputs": [
        {
          "output_type": "execute_result",
          "data": {
            "text/html": [
              "<div>\n",
              "<style scoped>\n",
              "    .dataframe tbody tr th:only-of-type {\n",
              "        vertical-align: middle;\n",
              "    }\n",
              "\n",
              "    .dataframe tbody tr th {\n",
              "        vertical-align: top;\n",
              "    }\n",
              "\n",
              "    .dataframe thead th {\n",
              "        text-align: right;\n",
              "    }\n",
              "</style>\n",
              "<table border=\"1\" class=\"dataframe\">\n",
              "  <thead>\n",
              "    <tr style=\"text-align: right;\">\n",
              "      <th></th>\n",
              "      <th>Cluster</th>\n",
              "      <th>valor_em_reais</th>\n",
              "    </tr>\n",
              "  </thead>\n",
              "  <tbody>\n",
              "    <tr>\n",
              "      <th>0</th>\n",
              "      <td>0</td>\n",
              "      <td>127972.56</td>\n",
              "    </tr>\n",
              "    <tr>\n",
              "      <th>1</th>\n",
              "      <td>1</td>\n",
              "      <td>1796143.68</td>\n",
              "    </tr>\n",
              "    <tr>\n",
              "      <th>2</th>\n",
              "      <td>2</td>\n",
              "      <td>204424.98</td>\n",
              "    </tr>\n",
              "    <tr>\n",
              "      <th>3</th>\n",
              "      <td>3</td>\n",
              "      <td>54215.63</td>\n",
              "    </tr>\n",
              "  </tbody>\n",
              "</table>\n",
              "</div>"
            ],
            "text/plain": [
              "   Cluster  valor_em_reais\n",
              "0        0       127972.56\n",
              "1        1      1796143.68\n",
              "2        2       204424.98\n",
              "3        3        54215.63"
            ]
          },
          "metadata": {},
          "execution_count": 135
        }
      ]
    },
    {
      "cell_type": "code",
      "metadata": {
        "colab": {
          "base_uri": "https://localhost:8080/"
        },
        "id": "EZZEIp5JJtbx",
        "outputId": "540ce660-7c45-4eda-e3f1-bdf52c026e59"
      },
      "source": [
        " df1.groupby('setor_cnae')['Cluster'].value_counts()"
      ],
      "execution_count": null,
      "outputs": [
        {
          "output_type": "execute_result",
          "data": {
            "text/plain": [
              "setor_cnae  Cluster\n",
              "0           3          302940\n",
              "            1           32401\n",
              "1           0          581171\n",
              "            1          506963\n",
              "            2          350605\n",
              "2           1          179067\n",
              "            0           69373\n",
              "            2           65300\n",
              "3           1            6540\n",
              "            2            4424\n",
              "            0            4144\n",
              "Name: Cluster, dtype: int64"
            ]
          },
          "metadata": {},
          "execution_count": 136
        }
      ]
    },
    {
      "cell_type": "code",
      "metadata": {
        "id": "mLUR34Ce16G2"
      },
      "source": [
        "func_setor = lambda x: (0 if x == 'AGROPECUÃ�RIA E PESCA' else \n",
        "                        1 if x == 'COMERCIO E SERVICOS' else \n",
        "                        2 if x == 'INDUSTRIA DE TRANSFORMAÃ‡ÃƒO' else \n",
        "                        3)"
      ],
      "execution_count": null,
      "outputs": []
    },
    {
      "cell_type": "code",
      "metadata": {
        "colab": {
          "base_uri": "https://localhost:8080/",
          "height": 515
        },
        "id": "_uzTC4h-v87L",
        "outputId": "543d933c-3979-410c-9505-c9d790aefe7a"
      },
      "source": [
        "plt.figure(figsize=(12, 8))\n",
        "sns.histplot(x='setor_cnae', hue='Cluster', data=data)"
      ],
      "execution_count": null,
      "outputs": [
        {
          "output_type": "execute_result",
          "data": {
            "text/plain": [
              "<matplotlib.axes._subplots.AxesSubplot at 0x7f510e19e7d0>"
            ]
          },
          "metadata": {},
          "execution_count": 140
        },
        {
          "output_type": "display_data",
          "data": {
            "image/png": "[encoded data removed]",
            "text/plain": [
              "<Figure size 864x576 with 1 Axes>"
            ]
          },
          "metadata": {
            "needs_background": "light"
          }
        }
      ]
    },
    {
      "cell_type": "markdown",
      "metadata": {
        "id": "2M4oyV3ewvym"
      },
      "source": [
        "### Setor CNAE X Valor em reais"
      ]
    },
    {
      "cell_type": "code",
      "metadata": {
        "id": "eMSJmc-Uwtbu"
      },
      "source": [
        "data = df.copy()"
      ],
      "execution_count": null,
      "outputs": []
    },
    {
      "cell_type": "code",
      "metadata": {
        "colab": {
          "base_uri": "https://localhost:8080/",
          "height": 485
        },
        "id": "yJS5DCsEDc7c",
        "outputId": "e6b073ca-ac77-4643-f8b2-daa306f3a912"
      },
      "source": [
        "data.head()"
      ],
      "execution_count": null,
      "outputs": [
        {
          "output_type": "execute_result",
          "data": {
            "text/html": [
              "<div>\n",
              "<style scoped>\n",
              "    .dataframe tbody tr th:only-of-type {\n",
              "        vertical-align: middle;\n",
              "    }\n",
              "\n",
              "    .dataframe tbody tr th {\n",
              "        vertical-align: top;\n",
              "    }\n",
              "\n",
              "    .dataframe thead th {\n",
              "        text-align: right;\n",
              "    }\n",
              "</style>\n",
              "<table border=\"1\" class=\"dataframe\">\n",
              "  <thead>\n",
              "    <tr style=\"text-align: right;\">\n",
              "      <th></th>\n",
              "      <th>cliente</th>\n",
              "      <th>cnpj</th>\n",
              "      <th>uf</th>\n",
              "      <th>municipio</th>\n",
              "      <th>municipio_codigo</th>\n",
              "      <th>data_da_contratacao</th>\n",
              "      <th>valor_em_reais</th>\n",
              "      <th>valor_desembolsado_reais</th>\n",
              "      <th>fonte_de_recurso_desembolsos</th>\n",
              "      <th>custo_financeiro</th>\n",
              "      <th>juros</th>\n",
              "      <th>prazo_carencia_meses</th>\n",
              "      <th>prazo_amortizacao_meses</th>\n",
              "      <th>modalidade_de_apoio</th>\n",
              "      <th>forma_de_apoio</th>\n",
              "      <th>produto</th>\n",
              "      <th>instrumento_financeiro</th>\n",
              "      <th>inovacao</th>\n",
              "      <th>area_operacional</th>\n",
              "      <th>setor_cnae</th>\n",
              "      <th>subsetor_cnae_agrupado</th>\n",
              "      <th>subsetor_cnae_codigo</th>\n",
              "      <th>subsetor_cnae_nome</th>\n",
              "      <th>setor_bndes</th>\n",
              "      <th>subsetor_bndes</th>\n",
              "      <th>porte_do_cliente</th>\n",
              "      <th>natureza_do_cliente</th>\n",
              "      <th>instituicao_financeira_credenciada</th>\n",
              "      <th>cnpj_do_agente_financeiro</th>\n",
              "      <th>situacao</th>\n",
              "      <th>origem</th>\n",
              "      <th>valor_contratado_reais</th>\n",
              "      <th>descricao_do_projeto</th>\n",
              "      <th>numero_do_contrato</th>\n",
              "      <th>tipo_de_garantia</th>\n",
              "      <th>tipo_de_excepcionalidade</th>\n",
              "    </tr>\n",
              "  </thead>\n",
              "  <tbody>\n",
              "    <tr>\n",
              "      <th>0</th>\n",
              "      <td>BANCO COOPERATIVO SICOOB S.A.</td>\n",
              "      <td>**.*38.232/0001-**</td>\n",
              "      <td>SP</td>\n",
              "      <td>PEDREGULHO</td>\n",
              "      <td>3537008</td>\n",
              "      <td>2002-01-02</td>\n",
              "      <td>16000.0</td>\n",
              "      <td>16000.0</td>\n",
              "      <td>RECURSOS LIVRES - TESOURO</td>\n",
              "      <td>TAXA FIXA</td>\n",
              "      <td>8.75</td>\n",
              "      <td>24</td>\n",
              "      <td>36</td>\n",
              "      <td>REEMBOLSÃ�VEL</td>\n",
              "      <td>INDIRETA</td>\n",
              "      <td>BNDES AUTOMÃ�TICO</td>\n",
              "      <td>OUTROS</td>\n",
              "      <td>NÃƒO</td>\n",
              "      <td>AREA DE OPERACOES E CANAIS DIGITAIS</td>\n",
              "      <td>0</td>\n",
              "      <td>AgropecuÃ¡ria</td>\n",
              "      <td>A0119900</td>\n",
              "      <td>CULT PLANTAS LAVOURA TEMPORARIA NAO ESPECIFICA...</td>\n",
              "      <td>AGROPECUÃ�RIA</td>\n",
              "      <td>AGROPECUÃ�RIA</td>\n",
              "      <td>0</td>\n",
              "      <td>PRIVADA</td>\n",
              "      <td>BANCO COOPERATIVO SICOOB S.A.</td>\n",
              "      <td>02.038.232.0001-64</td>\n",
              "      <td>LIQUIDADA</td>\n",
              "      <td>AUTOMATICA</td>\n",
              "      <td>16000.0</td>\n",
              "      <td>0</td>\n",
              "      <td>0</td>\n",
              "      <td>0</td>\n",
              "      <td>0</td>\n",
              "    </tr>\n",
              "    <tr>\n",
              "      <th>1</th>\n",
              "      <td>BANCO REGIONAL DE DESENVOLVIMENTO DO EXTREMO SUL</td>\n",
              "      <td>**.*16.560/0001-**</td>\n",
              "      <td>RS</td>\n",
              "      <td>TRES DE MAIO</td>\n",
              "      <td>4321808</td>\n",
              "      <td>2002-01-02</td>\n",
              "      <td>8047.0</td>\n",
              "      <td>8047.0</td>\n",
              "      <td>RECURSOS VINCULADOS - FAT DEPÃ“SITOS ESPECIAIS</td>\n",
              "      <td>TAXA FIXA</td>\n",
              "      <td>4.0</td>\n",
              "      <td>0</td>\n",
              "      <td>60</td>\n",
              "      <td>REEMBOLSÃ�VEL</td>\n",
              "      <td>INDIRETA</td>\n",
              "      <td>BNDES AUTOMÃ�TICO</td>\n",
              "      <td>PRONAF INVESTIMENTO</td>\n",
              "      <td>NÃƒO</td>\n",
              "      <td>AREA DE OPERACOES E CANAIS DIGITAIS</td>\n",
              "      <td>0</td>\n",
              "      <td>AgropecuÃ¡ria</td>\n",
              "      <td>A0100000</td>\n",
              "      <td>AGRICULTURA, PECUARIA E SERVICOS RELACIONADOS</td>\n",
              "      <td>AGROPECUÃ�RIA</td>\n",
              "      <td>AGROPECUÃ�RIA</td>\n",
              "      <td>0</td>\n",
              "      <td>PRIVADA</td>\n",
              "      <td>BANCO REGIONAL DE DESENVOLVIMENTO DO EXTREMO SUL</td>\n",
              "      <td>92.816.560.0001-37</td>\n",
              "      <td>LIQUIDADA</td>\n",
              "      <td>AUTOMATICA</td>\n",
              "      <td>8047.0</td>\n",
              "      <td>0</td>\n",
              "      <td>0</td>\n",
              "      <td>0</td>\n",
              "      <td>0</td>\n",
              "    </tr>\n",
              "    <tr>\n",
              "      <th>2</th>\n",
              "      <td>BANCO REGIONAL DE DESENVOLVIMENTO DO EXTREMO SUL</td>\n",
              "      <td>**.*16.560/0001-**</td>\n",
              "      <td>RS</td>\n",
              "      <td>ERECHIM</td>\n",
              "      <td>4307005</td>\n",
              "      <td>2002-01-02</td>\n",
              "      <td>8104.0</td>\n",
              "      <td>8104.0</td>\n",
              "      <td>RECURSOS VINCULADOS - FAT DEPÃ“SITOS ESPECIAIS</td>\n",
              "      <td>TAXA FIXA</td>\n",
              "      <td>4.0</td>\n",
              "      <td>12</td>\n",
              "      <td>48</td>\n",
              "      <td>REEMBOLSÃ�VEL</td>\n",
              "      <td>INDIRETA</td>\n",
              "      <td>BNDES AUTOMÃ�TICO</td>\n",
              "      <td>PRONAF INVESTIMENTO</td>\n",
              "      <td>NÃƒO</td>\n",
              "      <td>AREA DE OPERACOES E CANAIS DIGITAIS</td>\n",
              "      <td>0</td>\n",
              "      <td>AgropecuÃ¡ria</td>\n",
              "      <td>A0100000</td>\n",
              "      <td>AGRICULTURA, PECUARIA E SERVICOS RELACIONADOS</td>\n",
              "      <td>AGROPECUÃ�RIA</td>\n",
              "      <td>AGROPECUÃ�RIA</td>\n",
              "      <td>0</td>\n",
              "      <td>PRIVADA</td>\n",
              "      <td>BANCO REGIONAL DE DESENVOLVIMENTO DO EXTREMO SUL</td>\n",
              "      <td>92.816.560.0001-37</td>\n",
              "      <td>LIQUIDADA</td>\n",
              "      <td>AUTOMATICA</td>\n",
              "      <td>8104.0</td>\n",
              "      <td>0</td>\n",
              "      <td>0</td>\n",
              "      <td>0</td>\n",
              "      <td>0</td>\n",
              "    </tr>\n",
              "    <tr>\n",
              "      <th>3</th>\n",
              "      <td>BANCO REGIONAL DE DESENVOLVIMENTO DO EXTREMO SUL</td>\n",
              "      <td>**.*16.560/0001-**</td>\n",
              "      <td>RS</td>\n",
              "      <td>ERECHIM</td>\n",
              "      <td>4307005</td>\n",
              "      <td>2002-01-02</td>\n",
              "      <td>6304.0</td>\n",
              "      <td>6304.0</td>\n",
              "      <td>RECURSOS VINCULADOS - FAT DEPÃ“SITOS ESPECIAIS</td>\n",
              "      <td>TAXA FIXA</td>\n",
              "      <td>4.0</td>\n",
              "      <td>12</td>\n",
              "      <td>48</td>\n",
              "      <td>REEMBOLSÃ�VEL</td>\n",
              "      <td>INDIRETA</td>\n",
              "      <td>BNDES AUTOMÃ�TICO</td>\n",
              "      <td>PRONAF INVESTIMENTO</td>\n",
              "      <td>NÃƒO</td>\n",
              "      <td>AREA DE OPERACOES E CANAIS DIGITAIS</td>\n",
              "      <td>0</td>\n",
              "      <td>AgropecuÃ¡ria</td>\n",
              "      <td>A0100000</td>\n",
              "      <td>AGRICULTURA, PECUARIA E SERVICOS RELACIONADOS</td>\n",
              "      <td>AGROPECUÃ�RIA</td>\n",
              "      <td>AGROPECUÃ�RIA</td>\n",
              "      <td>0</td>\n",
              "      <td>PRIVADA</td>\n",
              "      <td>BANCO REGIONAL DE DESENVOLVIMENTO DO EXTREMO SUL</td>\n",
              "      <td>92.816.560.0001-37</td>\n",
              "      <td>LIQUIDADA</td>\n",
              "      <td>AUTOMATICA</td>\n",
              "      <td>6304.0</td>\n",
              "      <td>0</td>\n",
              "      <td>0</td>\n",
              "      <td>0</td>\n",
              "      <td>0</td>\n",
              "    </tr>\n",
              "    <tr>\n",
              "      <th>4</th>\n",
              "      <td>BANCO REGIONAL DE DESENVOLVIMENTO DO EXTREMO SUL</td>\n",
              "      <td>**.*16.560/0001-**</td>\n",
              "      <td>RS</td>\n",
              "      <td>HUMAITA</td>\n",
              "      <td>4309704</td>\n",
              "      <td>2002-01-02</td>\n",
              "      <td>15000.0</td>\n",
              "      <td>15000.0</td>\n",
              "      <td>RECURSOS VINCULADOS - FAT DEPÃ“SITOS ESPECIAIS</td>\n",
              "      <td>TAXA FIXA</td>\n",
              "      <td>4.0</td>\n",
              "      <td>0</td>\n",
              "      <td>60</td>\n",
              "      <td>REEMBOLSÃ�VEL</td>\n",
              "      <td>INDIRETA</td>\n",
              "      <td>BNDES AUTOMÃ�TICO</td>\n",
              "      <td>PRONAF INVESTIMENTO</td>\n",
              "      <td>NÃƒO</td>\n",
              "      <td>AREA DE OPERACOES E CANAIS DIGITAIS</td>\n",
              "      <td>0</td>\n",
              "      <td>AgropecuÃ¡ria</td>\n",
              "      <td>A0100000</td>\n",
              "      <td>AGRICULTURA, PECUARIA E SERVICOS RELACIONADOS</td>\n",
              "      <td>AGROPECUÃ�RIA</td>\n",
              "      <td>AGROPECUÃ�RIA</td>\n",
              "      <td>0</td>\n",
              "      <td>PRIVADA</td>\n",
              "      <td>BANCO REGIONAL DE DESENVOLVIMENTO DO EXTREMO SUL</td>\n",
              "      <td>92.816.560.0001-37</td>\n",
              "      <td>LIQUIDADA</td>\n",
              "      <td>AUTOMATICA</td>\n",
              "      <td>15000.0</td>\n",
              "      <td>0</td>\n",
              "      <td>0</td>\n",
              "      <td>0</td>\n",
              "      <td>0</td>\n",
              "    </tr>\n",
              "  </tbody>\n",
              "</table>\n",
              "</div>"
            ],
            "text/plain": [
              "                                            cliente  ... tipo_de_excepcionalidade\n",
              "0                     BANCO COOPERATIVO SICOOB S.A.  ...                        0\n",
              "1  BANCO REGIONAL DE DESENVOLVIMENTO DO EXTREMO SUL  ...                        0\n",
              "2  BANCO REGIONAL DE DESENVOLVIMENTO DO EXTREMO SUL  ...                        0\n",
              "3  BANCO REGIONAL DE DESENVOLVIMENTO DO EXTREMO SUL  ...                        0\n",
              "4  BANCO REGIONAL DE DESENVOLVIMENTO DO EXTREMO SUL  ...                        0\n",
              "\n",
              "[5 rows x 36 columns]"
            ]
          },
          "metadata": {},
          "execution_count": 12
        }
      ]
    },
    {
      "cell_type": "code",
      "metadata": {
        "id": "cfH6OCpwD36w"
      },
      "source": [
        "dfx = data.copy()"
      ],
      "execution_count": null,
      "outputs": []
    },
    {
      "cell_type": "code",
      "metadata": {
        "id": "Egm6M2kuDh4M"
      },
      "source": [
        "from sklearn.preprocessing import StandardScaler\n",
        "\n",
        "X = data['valor_em_reais'].values\n",
        "scaler = StandardScaler().fit(X.reshape(-1, 1))\n",
        "dfx['valor_em_reais'] = scaler.transform(X.reshape(-1, 1))"
      ],
      "execution_count": null,
      "outputs": []
    },
    {
      "cell_type": "code",
      "metadata": {
        "colab": {
          "base_uri": "https://localhost:8080/",
          "height": 485
        },
        "id": "_n5KLt4GEAws",
        "outputId": "bd0f34fb-2eb3-484d-e72b-eb37ce4ef61f"
      },
      "source": [
        "dfx.head()"
      ],
      "execution_count": null,
      "outputs": [
        {
          "output_type": "execute_result",
          "data": {
            "text/html": [
              "<div>\n",
              "<style scoped>\n",
              "    .dataframe tbody tr th:only-of-type {\n",
              "        vertical-align: middle;\n",
              "    }\n",
              "\n",
              "    .dataframe tbody tr th {\n",
              "        vertical-align: top;\n",
              "    }\n",
              "\n",
              "    .dataframe thead th {\n",
              "        text-align: right;\n",
              "    }\n",
              "</style>\n",
              "<table border=\"1\" class=\"dataframe\">\n",
              "  <thead>\n",
              "    <tr style=\"text-align: right;\">\n",
              "      <th></th>\n",
              "      <th>cliente</th>\n",
              "      <th>cnpj</th>\n",
              "      <th>uf</th>\n",
              "      <th>municipio</th>\n",
              "      <th>municipio_codigo</th>\n",
              "      <th>data_da_contratacao</th>\n",
              "      <th>valor_em_reais</th>\n",
              "      <th>valor_desembolsado_reais</th>\n",
              "      <th>fonte_de_recurso_desembolsos</th>\n",
              "      <th>custo_financeiro</th>\n",
              "      <th>juros</th>\n",
              "      <th>prazo_carencia_meses</th>\n",
              "      <th>prazo_amortizacao_meses</th>\n",
              "      <th>modalidade_de_apoio</th>\n",
              "      <th>forma_de_apoio</th>\n",
              "      <th>produto</th>\n",
              "      <th>instrumento_financeiro</th>\n",
              "      <th>inovacao</th>\n",
              "      <th>area_operacional</th>\n",
              "      <th>setor_cnae</th>\n",
              "      <th>subsetor_cnae_agrupado</th>\n",
              "      <th>subsetor_cnae_codigo</th>\n",
              "      <th>subsetor_cnae_nome</th>\n",
              "      <th>setor_bndes</th>\n",
              "      <th>subsetor_bndes</th>\n",
              "      <th>porte_do_cliente</th>\n",
              "      <th>natureza_do_cliente</th>\n",
              "      <th>instituicao_financeira_credenciada</th>\n",
              "      <th>cnpj_do_agente_financeiro</th>\n",
              "      <th>situacao</th>\n",
              "      <th>origem</th>\n",
              "      <th>valor_contratado_reais</th>\n",
              "      <th>descricao_do_projeto</th>\n",
              "      <th>numero_do_contrato</th>\n",
              "      <th>tipo_de_garantia</th>\n",
              "      <th>tipo_de_excepcionalidade</th>\n",
              "    </tr>\n",
              "  </thead>\n",
              "  <tbody>\n",
              "    <tr>\n",
              "      <th>0</th>\n",
              "      <td>BANCO COOPERATIVO SICOOB S.A.</td>\n",
              "      <td>**.*38.232/0001-**</td>\n",
              "      <td>SP</td>\n",
              "      <td>PEDREGULHO</td>\n",
              "      <td>3537008</td>\n",
              "      <td>2002-01-02</td>\n",
              "      <td>-0.034296</td>\n",
              "      <td>16000.0</td>\n",
              "      <td>RECURSOS LIVRES - TESOURO</td>\n",
              "      <td>TAXA FIXA</td>\n",
              "      <td>8.75</td>\n",
              "      <td>24</td>\n",
              "      <td>36</td>\n",
              "      <td>REEMBOLSÃ�VEL</td>\n",
              "      <td>INDIRETA</td>\n",
              "      <td>BNDES AUTOMÃ�TICO</td>\n",
              "      <td>OUTROS</td>\n",
              "      <td>NÃƒO</td>\n",
              "      <td>AREA DE OPERACOES E CANAIS DIGITAIS</td>\n",
              "      <td>0</td>\n",
              "      <td>AgropecuÃ¡ria</td>\n",
              "      <td>A0119900</td>\n",
              "      <td>CULT PLANTAS LAVOURA TEMPORARIA NAO ESPECIFICA...</td>\n",
              "      <td>AGROPECUÃ�RIA</td>\n",
              "      <td>AGROPECUÃ�RIA</td>\n",
              "      <td>0</td>\n",
              "      <td>PRIVADA</td>\n",
              "      <td>BANCO COOPERATIVO SICOOB S.A.</td>\n",
              "      <td>02.038.232.0001-64</td>\n",
              "      <td>LIQUIDADA</td>\n",
              "      <td>AUTOMATICA</td>\n",
              "      <td>16000.0</td>\n",
              "      <td>0</td>\n",
              "      <td>0</td>\n",
              "      <td>0</td>\n",
              "      <td>0</td>\n",
              "    </tr>\n",
              "    <tr>\n",
              "      <th>1</th>\n",
              "      <td>BANCO REGIONAL DE DESENVOLVIMENTO DO EXTREMO SUL</td>\n",
              "      <td>**.*16.560/0001-**</td>\n",
              "      <td>RS</td>\n",
              "      <td>TRES DE MAIO</td>\n",
              "      <td>4321808</td>\n",
              "      <td>2002-01-02</td>\n",
              "      <td>-0.034690</td>\n",
              "      <td>8047.0</td>\n",
              "      <td>RECURSOS VINCULADOS - FAT DEPÃ“SITOS ESPECIAIS</td>\n",
              "      <td>TAXA FIXA</td>\n",
              "      <td>4.0</td>\n",
              "      <td>0</td>\n",
              "      <td>60</td>\n",
              "      <td>REEMBOLSÃ�VEL</td>\n",
              "      <td>INDIRETA</td>\n",
              "      <td>BNDES AUTOMÃ�TICO</td>\n",
              "      <td>PRONAF INVESTIMENTO</td>\n",
              "      <td>NÃƒO</td>\n",
              "      <td>AREA DE OPERACOES E CANAIS DIGITAIS</td>\n",
              "      <td>0</td>\n",
              "      <td>AgropecuÃ¡ria</td>\n",
              "      <td>A0100000</td>\n",
              "      <td>AGRICULTURA, PECUARIA E SERVICOS RELACIONADOS</td>\n",
              "      <td>AGROPECUÃ�RIA</td>\n",
              "      <td>AGROPECUÃ�RIA</td>\n",
              "      <td>0</td>\n",
              "      <td>PRIVADA</td>\n",
              "      <td>BANCO REGIONAL DE DESENVOLVIMENTO DO EXTREMO SUL</td>\n",
              "      <td>92.816.560.0001-37</td>\n",
              "      <td>LIQUIDADA</td>\n",
              "      <td>AUTOMATICA</td>\n",
              "      <td>8047.0</td>\n",
              "      <td>0</td>\n",
              "      <td>0</td>\n",
              "      <td>0</td>\n",
              "      <td>0</td>\n",
              "    </tr>\n",
              "    <tr>\n",
              "      <th>2</th>\n",
              "      <td>BANCO REGIONAL DE DESENVOLVIMENTO DO EXTREMO SUL</td>\n",
              "      <td>**.*16.560/0001-**</td>\n",
              "      <td>RS</td>\n",
              "      <td>ERECHIM</td>\n",
              "      <td>4307005</td>\n",
              "      <td>2002-01-02</td>\n",
              "      <td>-0.034687</td>\n",
              "      <td>8104.0</td>\n",
              "      <td>RECURSOS VINCULADOS - FAT DEPÃ“SITOS ESPECIAIS</td>\n",
              "      <td>TAXA FIXA</td>\n",
              "      <td>4.0</td>\n",
              "      <td>12</td>\n",
              "      <td>48</td>\n",
              "      <td>REEMBOLSÃ�VEL</td>\n",
              "      <td>INDIRETA</td>\n",
              "      <td>BNDES AUTOMÃ�TICO</td>\n",
              "      <td>PRONAF INVESTIMENTO</td>\n",
              "      <td>NÃƒO</td>\n",
              "      <td>AREA DE OPERACOES E CANAIS DIGITAIS</td>\n",
              "      <td>0</td>\n",
              "      <td>AgropecuÃ¡ria</td>\n",
              "      <td>A0100000</td>\n",
              "      <td>AGRICULTURA, PECUARIA E SERVICOS RELACIONADOS</td>\n",
              "      <td>AGROPECUÃ�RIA</td>\n",
              "      <td>AGROPECUÃ�RIA</td>\n",
              "      <td>0</td>\n",
              "      <td>PRIVADA</td>\n",
              "      <td>BANCO REGIONAL DE DESENVOLVIMENTO DO EXTREMO SUL</td>\n",
              "      <td>92.816.560.0001-37</td>\n",
              "      <td>LIQUIDADA</td>\n",
              "      <td>AUTOMATICA</td>\n",
              "      <td>8104.0</td>\n",
              "      <td>0</td>\n",
              "      <td>0</td>\n",
              "      <td>0</td>\n",
              "      <td>0</td>\n",
              "    </tr>\n",
              "    <tr>\n",
              "      <th>3</th>\n",
              "      <td>BANCO REGIONAL DE DESENVOLVIMENTO DO EXTREMO SUL</td>\n",
              "      <td>**.*16.560/0001-**</td>\n",
              "      <td>RS</td>\n",
              "      <td>ERECHIM</td>\n",
              "      <td>4307005</td>\n",
              "      <td>2002-01-02</td>\n",
              "      <td>-0.034776</td>\n",
              "      <td>6304.0</td>\n",
              "      <td>RECURSOS VINCULADOS - FAT DEPÃ“SITOS ESPECIAIS</td>\n",
              "      <td>TAXA FIXA</td>\n",
              "      <td>4.0</td>\n",
              "      <td>12</td>\n",
              "      <td>48</td>\n",
              "      <td>REEMBOLSÃ�VEL</td>\n",
              "      <td>INDIRETA</td>\n",
              "      <td>BNDES AUTOMÃ�TICO</td>\n",
              "      <td>PRONAF INVESTIMENTO</td>\n",
              "      <td>NÃƒO</td>\n",
              "      <td>AREA DE OPERACOES E CANAIS DIGITAIS</td>\n",
              "      <td>0</td>\n",
              "      <td>AgropecuÃ¡ria</td>\n",
              "      <td>A0100000</td>\n",
              "      <td>AGRICULTURA, PECUARIA E SERVICOS RELACIONADOS</td>\n",
              "      <td>AGROPECUÃ�RIA</td>\n",
              "      <td>AGROPECUÃ�RIA</td>\n",
              "      <td>0</td>\n",
              "      <td>PRIVADA</td>\n",
              "      <td>BANCO REGIONAL DE DESENVOLVIMENTO DO EXTREMO SUL</td>\n",
              "      <td>92.816.560.0001-37</td>\n",
              "      <td>LIQUIDADA</td>\n",
              "      <td>AUTOMATICA</td>\n",
              "      <td>6304.0</td>\n",
              "      <td>0</td>\n",
              "      <td>0</td>\n",
              "      <td>0</td>\n",
              "      <td>0</td>\n",
              "    </tr>\n",
              "    <tr>\n",
              "      <th>4</th>\n",
              "      <td>BANCO REGIONAL DE DESENVOLVIMENTO DO EXTREMO SUL</td>\n",
              "      <td>**.*16.560/0001-**</td>\n",
              "      <td>RS</td>\n",
              "      <td>HUMAITA</td>\n",
              "      <td>4309704</td>\n",
              "      <td>2002-01-02</td>\n",
              "      <td>-0.034345</td>\n",
              "      <td>15000.0</td>\n",
              "      <td>RECURSOS VINCULADOS - FAT DEPÃ“SITOS ESPECIAIS</td>\n",
              "      <td>TAXA FIXA</td>\n",
              "      <td>4.0</td>\n",
              "      <td>0</td>\n",
              "      <td>60</td>\n",
              "      <td>REEMBOLSÃ�VEL</td>\n",
              "      <td>INDIRETA</td>\n",
              "      <td>BNDES AUTOMÃ�TICO</td>\n",
              "      <td>PRONAF INVESTIMENTO</td>\n",
              "      <td>NÃƒO</td>\n",
              "      <td>AREA DE OPERACOES E CANAIS DIGITAIS</td>\n",
              "      <td>0</td>\n",
              "      <td>AgropecuÃ¡ria</td>\n",
              "      <td>A0100000</td>\n",
              "      <td>AGRICULTURA, PECUARIA E SERVICOS RELACIONADOS</td>\n",
              "      <td>AGROPECUÃ�RIA</td>\n",
              "      <td>AGROPECUÃ�RIA</td>\n",
              "      <td>0</td>\n",
              "      <td>PRIVADA</td>\n",
              "      <td>BANCO REGIONAL DE DESENVOLVIMENTO DO EXTREMO SUL</td>\n",
              "      <td>92.816.560.0001-37</td>\n",
              "      <td>LIQUIDADA</td>\n",
              "      <td>AUTOMATICA</td>\n",
              "      <td>15000.0</td>\n",
              "      <td>0</td>\n",
              "      <td>0</td>\n",
              "      <td>0</td>\n",
              "      <td>0</td>\n",
              "    </tr>\n",
              "  </tbody>\n",
              "</table>\n",
              "</div>"
            ],
            "text/plain": [
              "                                            cliente  ... tipo_de_excepcionalidade\n",
              "0                     BANCO COOPERATIVO SICOOB S.A.  ...                        0\n",
              "1  BANCO REGIONAL DE DESENVOLVIMENTO DO EXTREMO SUL  ...                        0\n",
              "2  BANCO REGIONAL DE DESENVOLVIMENTO DO EXTREMO SUL  ...                        0\n",
              "3  BANCO REGIONAL DE DESENVOLVIMENTO DO EXTREMO SUL  ...                        0\n",
              "4  BANCO REGIONAL DE DESENVOLVIMENTO DO EXTREMO SUL  ...                        0\n",
              "\n",
              "[5 rows x 36 columns]"
            ]
          },
          "metadata": {},
          "execution_count": 18
        }
      ]
    },
    {
      "cell_type": "code",
      "metadata": {
        "id": "u4eKsgS8DWYU"
      },
      "source": [
        "columns = ['setor_cnae', 'valor_em_reais']\n",
        "\n",
        "X = dfx[columns].values"
      ],
      "execution_count": null,
      "outputs": []
    },
    {
      "cell_type": "code",
      "metadata": {
        "id": "2F0Oy_gBEUam"
      },
      "source": [
        "kmeans = KMeans(n_clusters=4, random_state=42).fit(X)"
      ],
      "execution_count": null,
      "outputs": []
    },
    {
      "cell_type": "code",
      "metadata": {
        "id": "nIauDzE-EdIW"
      },
      "source": [
        "X_clusted = kmeans.predict(X)"
      ],
      "execution_count": null,
      "outputs": []
    },
    {
      "cell_type": "code",
      "metadata": {
        "id": "685m-_bqEo1-"
      },
      "source": [
        "dfx['Cluster'] = X_clusted"
      ],
      "execution_count": null,
      "outputs": []
    },
    {
      "cell_type": "code",
      "metadata": {
        "id": "5deIgT_2Eq0F"
      },
      "source": [
        "dfx['valor_em_reais'] = scaler.inverse_transform(dfx['valor_em_reais'])"
      ],
      "execution_count": null,
      "outputs": []
    },
    {
      "cell_type": "code",
      "metadata": {
        "id": "ygGClvGB7Chx"
      },
      "source": [
        "valor_em_reais, setor_cnae, porte_do_cliente, natureza_do_cliente"
      ],
      "execution_count": null,
      "outputs": []
    },
    {
      "cell_type": "code",
      "metadata": {
        "colab": {
          "base_uri": "https://localhost:8080/",
          "height": 485
        },
        "id": "lIWbDVOIE0_s",
        "outputId": "31f3d4b2-7cd0-428a-e719-3288a5a997b1"
      },
      "source": [
        "dfx.head()"
      ],
      "execution_count": null,
      "outputs": [
        {
          "output_type": "execute_result",
          "data": {
            "text/html": [
              "<div>\n",
              "<style scoped>\n",
              "    .dataframe tbody tr th:only-of-type {\n",
              "        vertical-align: middle;\n",
              "    }\n",
              "\n",
              "    .dataframe tbody tr th {\n",
              "        vertical-align: top;\n",
              "    }\n",
              "\n",
              "    .dataframe thead th {\n",
              "        text-align: right;\n",
              "    }\n",
              "</style>\n",
              "<table border=\"1\" class=\"dataframe\">\n",
              "  <thead>\n",
              "    <tr style=\"text-align: right;\">\n",
              "      <th></th>\n",
              "      <th>cliente</th>\n",
              "      <th>cnpj</th>\n",
              "      <th>uf</th>\n",
              "      <th>municipio</th>\n",
              "      <th>municipio_codigo</th>\n",
              "      <th>data_da_contratacao</th>\n",
              "      <th>valor_em_reais</th>\n",
              "      <th>valor_desembolsado_reais</th>\n",
              "      <th>fonte_de_recurso_desembolsos</th>\n",
              "      <th>custo_financeiro</th>\n",
              "      <th>juros</th>\n",
              "      <th>prazo_carencia_meses</th>\n",
              "      <th>prazo_amortizacao_meses</th>\n",
              "      <th>modalidade_de_apoio</th>\n",
              "      <th>forma_de_apoio</th>\n",
              "      <th>produto</th>\n",
              "      <th>instrumento_financeiro</th>\n",
              "      <th>inovacao</th>\n",
              "      <th>area_operacional</th>\n",
              "      <th>setor_cnae</th>\n",
              "      <th>subsetor_cnae_agrupado</th>\n",
              "      <th>subsetor_cnae_codigo</th>\n",
              "      <th>subsetor_cnae_nome</th>\n",
              "      <th>setor_bndes</th>\n",
              "      <th>subsetor_bndes</th>\n",
              "      <th>porte_do_cliente</th>\n",
              "      <th>natureza_do_cliente</th>\n",
              "      <th>instituicao_financeira_credenciada</th>\n",
              "      <th>cnpj_do_agente_financeiro</th>\n",
              "      <th>situacao</th>\n",
              "      <th>origem</th>\n",
              "      <th>valor_contratado_reais</th>\n",
              "      <th>descricao_do_projeto</th>\n",
              "      <th>numero_do_contrato</th>\n",
              "      <th>tipo_de_garantia</th>\n",
              "      <th>tipo_de_excepcionalidade</th>\n",
              "      <th>Cluster</th>\n",
              "    </tr>\n",
              "  </thead>\n",
              "  <tbody>\n",
              "    <tr>\n",
              "      <th>0</th>\n",
              "      <td>BANCO COOPERATIVO SICOOB S.A.</td>\n",
              "      <td>**.*38.232/0001-**</td>\n",
              "      <td>SP</td>\n",
              "      <td>PEDREGULHO</td>\n",
              "      <td>3537008</td>\n",
              "      <td>2002-01-02</td>\n",
              "      <td>16000.0</td>\n",
              "      <td>16000.0</td>\n",
              "      <td>RECURSOS LIVRES - TESOURO</td>\n",
              "      <td>TAXA FIXA</td>\n",
              "      <td>8.75</td>\n",
              "      <td>24</td>\n",
              "      <td>36</td>\n",
              "      <td>REEMBOLSÃ�VEL</td>\n",
              "      <td>INDIRETA</td>\n",
              "      <td>BNDES AUTOMÃ�TICO</td>\n",
              "      <td>OUTROS</td>\n",
              "      <td>NÃƒO</td>\n",
              "      <td>AREA DE OPERACOES E CANAIS DIGITAIS</td>\n",
              "      <td>0</td>\n",
              "      <td>AgropecuÃ¡ria</td>\n",
              "      <td>A0119900</td>\n",
              "      <td>CULT PLANTAS LAVOURA TEMPORARIA NAO ESPECIFICA...</td>\n",
              "      <td>AGROPECUÃ�RIA</td>\n",
              "      <td>AGROPECUÃ�RIA</td>\n",
              "      <td>0</td>\n",
              "      <td>PRIVADA</td>\n",
              "      <td>BANCO COOPERATIVO SICOOB S.A.</td>\n",
              "      <td>02.038.232.0001-64</td>\n",
              "      <td>LIQUIDADA</td>\n",
              "      <td>AUTOMATICA</td>\n",
              "      <td>16000.0</td>\n",
              "      <td>0</td>\n",
              "      <td>0</td>\n",
              "      <td>0</td>\n",
              "      <td>0</td>\n",
              "      <td>0</td>\n",
              "    </tr>\n",
              "    <tr>\n",
              "      <th>1</th>\n",
              "      <td>BANCO REGIONAL DE DESENVOLVIMENTO DO EXTREMO SUL</td>\n",
              "      <td>**.*16.560/0001-**</td>\n",
              "      <td>RS</td>\n",
              "      <td>TRES DE MAIO</td>\n",
              "      <td>4321808</td>\n",
              "      <td>2002-01-02</td>\n",
              "      <td>8047.0</td>\n",
              "      <td>8047.0</td>\n",
              "      <td>RECURSOS VINCULADOS - FAT DEPÃ“SITOS ESPECIAIS</td>\n",
              "      <td>TAXA FIXA</td>\n",
              "      <td>4.0</td>\n",
              "      <td>0</td>\n",
              "      <td>60</td>\n",
              "      <td>REEMBOLSÃ�VEL</td>\n",
              "      <td>INDIRETA</td>\n",
              "      <td>BNDES AUTOMÃ�TICO</td>\n",
              "      <td>PRONAF INVESTIMENTO</td>\n",
              "      <td>NÃƒO</td>\n",
              "      <td>AREA DE OPERACOES E CANAIS DIGITAIS</td>\n",
              "      <td>0</td>\n",
              "      <td>AgropecuÃ¡ria</td>\n",
              "      <td>A0100000</td>\n",
              "      <td>AGRICULTURA, PECUARIA E SERVICOS RELACIONADOS</td>\n",
              "      <td>AGROPECUÃ�RIA</td>\n",
              "      <td>AGROPECUÃ�RIA</td>\n",
              "      <td>0</td>\n",
              "      <td>PRIVADA</td>\n",
              "      <td>BANCO REGIONAL DE DESENVOLVIMENTO DO EXTREMO SUL</td>\n",
              "      <td>92.816.560.0001-37</td>\n",
              "      <td>LIQUIDADA</td>\n",
              "      <td>AUTOMATICA</td>\n",
              "      <td>8047.0</td>\n",
              "      <td>0</td>\n",
              "      <td>0</td>\n",
              "      <td>0</td>\n",
              "      <td>0</td>\n",
              "      <td>0</td>\n",
              "    </tr>\n",
              "    <tr>\n",
              "      <th>2</th>\n",
              "      <td>BANCO REGIONAL DE DESENVOLVIMENTO DO EXTREMO SUL</td>\n",
              "      <td>**.*16.560/0001-**</td>\n",
              "      <td>RS</td>\n",
              "      <td>ERECHIM</td>\n",
              "      <td>4307005</td>\n",
              "      <td>2002-01-02</td>\n",
              "      <td>8104.0</td>\n",
              "      <td>8104.0</td>\n",
              "      <td>RECURSOS VINCULADOS - FAT DEPÃ“SITOS ESPECIAIS</td>\n",
              "      <td>TAXA FIXA</td>\n",
              "      <td>4.0</td>\n",
              "      <td>12</td>\n",
              "      <td>48</td>\n",
              "      <td>REEMBOLSÃ�VEL</td>\n",
              "      <td>INDIRETA</td>\n",
              "      <td>BNDES AUTOMÃ�TICO</td>\n",
              "      <td>PRONAF INVESTIMENTO</td>\n",
              "      <td>NÃƒO</td>\n",
              "      <td>AREA DE OPERACOES E CANAIS DIGITAIS</td>\n",
              "      <td>0</td>\n",
              "      <td>AgropecuÃ¡ria</td>\n",
              "      <td>A0100000</td>\n",
              "      <td>AGRICULTURA, PECUARIA E SERVICOS RELACIONADOS</td>\n",
              "      <td>AGROPECUÃ�RIA</td>\n",
              "      <td>AGROPECUÃ�RIA</td>\n",
              "      <td>0</td>\n",
              "      <td>PRIVADA</td>\n",
              "      <td>BANCO REGIONAL DE DESENVOLVIMENTO DO EXTREMO SUL</td>\n",
              "      <td>92.816.560.0001-37</td>\n",
              "      <td>LIQUIDADA</td>\n",
              "      <td>AUTOMATICA</td>\n",
              "      <td>8104.0</td>\n",
              "      <td>0</td>\n",
              "      <td>0</td>\n",
              "      <td>0</td>\n",
              "      <td>0</td>\n",
              "      <td>0</td>\n",
              "    </tr>\n",
              "    <tr>\n",
              "      <th>3</th>\n",
              "      <td>BANCO REGIONAL DE DESENVOLVIMENTO DO EXTREMO SUL</td>\n",
              "      <td>**.*16.560/0001-**</td>\n",
              "      <td>RS</td>\n",
              "      <td>ERECHIM</td>\n",
              "      <td>4307005</td>\n",
              "      <td>2002-01-02</td>\n",
              "      <td>6304.0</td>\n",
              "      <td>6304.0</td>\n",
              "      <td>RECURSOS VINCULADOS - FAT DEPÃ“SITOS ESPECIAIS</td>\n",
              "      <td>TAXA FIXA</td>\n",
              "      <td>4.0</td>\n",
              "      <td>12</td>\n",
              "      <td>48</td>\n",
              "      <td>REEMBOLSÃ�VEL</td>\n",
              "      <td>INDIRETA</td>\n",
              "      <td>BNDES AUTOMÃ�TICO</td>\n",
              "      <td>PRONAF INVESTIMENTO</td>\n",
              "      <td>NÃƒO</td>\n",
              "      <td>AREA DE OPERACOES E CANAIS DIGITAIS</td>\n",
              "      <td>0</td>\n",
              "      <td>AgropecuÃ¡ria</td>\n",
              "      <td>A0100000</td>\n",
              "      <td>AGRICULTURA, PECUARIA E SERVICOS RELACIONADOS</td>\n",
              "      <td>AGROPECUÃ�RIA</td>\n",
              "      <td>AGROPECUÃ�RIA</td>\n",
              "      <td>0</td>\n",
              "      <td>PRIVADA</td>\n",
              "      <td>BANCO REGIONAL DE DESENVOLVIMENTO DO EXTREMO SUL</td>\n",
              "      <td>92.816.560.0001-37</td>\n",
              "      <td>LIQUIDADA</td>\n",
              "      <td>AUTOMATICA</td>\n",
              "      <td>6304.0</td>\n",
              "      <td>0</td>\n",
              "      <td>0</td>\n",
              "      <td>0</td>\n",
              "      <td>0</td>\n",
              "      <td>0</td>\n",
              "    </tr>\n",
              "    <tr>\n",
              "      <th>4</th>\n",
              "      <td>BANCO REGIONAL DE DESENVOLVIMENTO DO EXTREMO SUL</td>\n",
              "      <td>**.*16.560/0001-**</td>\n",
              "      <td>RS</td>\n",
              "      <td>HUMAITA</td>\n",
              "      <td>4309704</td>\n",
              "      <td>2002-01-02</td>\n",
              "      <td>15000.0</td>\n",
              "      <td>15000.0</td>\n",
              "      <td>RECURSOS VINCULADOS - FAT DEPÃ“SITOS ESPECIAIS</td>\n",
              "      <td>TAXA FIXA</td>\n",
              "      <td>4.0</td>\n",
              "      <td>0</td>\n",
              "      <td>60</td>\n",
              "      <td>REEMBOLSÃ�VEL</td>\n",
              "      <td>INDIRETA</td>\n",
              "      <td>BNDES AUTOMÃ�TICO</td>\n",
              "      <td>PRONAF INVESTIMENTO</td>\n",
              "      <td>NÃƒO</td>\n",
              "      <td>AREA DE OPERACOES E CANAIS DIGITAIS</td>\n",
              "      <td>0</td>\n",
              "      <td>AgropecuÃ¡ria</td>\n",
              "      <td>A0100000</td>\n",
              "      <td>AGRICULTURA, PECUARIA E SERVICOS RELACIONADOS</td>\n",
              "      <td>AGROPECUÃ�RIA</td>\n",
              "      <td>AGROPECUÃ�RIA</td>\n",
              "      <td>0</td>\n",
              "      <td>PRIVADA</td>\n",
              "      <td>BANCO REGIONAL DE DESENVOLVIMENTO DO EXTREMO SUL</td>\n",
              "      <td>92.816.560.0001-37</td>\n",
              "      <td>LIQUIDADA</td>\n",
              "      <td>AUTOMATICA</td>\n",
              "      <td>15000.0</td>\n",
              "      <td>0</td>\n",
              "      <td>0</td>\n",
              "      <td>0</td>\n",
              "      <td>0</td>\n",
              "      <td>0</td>\n",
              "    </tr>\n",
              "  </tbody>\n",
              "</table>\n",
              "</div>"
            ],
            "text/plain": [
              "                                            cliente  ... Cluster\n",
              "0                     BANCO COOPERATIVO SICOOB S.A.  ...       0\n",
              "1  BANCO REGIONAL DE DESENVOLVIMENTO DO EXTREMO SUL  ...       0\n",
              "2  BANCO REGIONAL DE DESENVOLVIMENTO DO EXTREMO SUL  ...       0\n",
              "3  BANCO REGIONAL DE DESENVOLVIMENTO DO EXTREMO SUL  ...       0\n",
              "4  BANCO REGIONAL DE DESENVOLVIMENTO DO EXTREMO SUL  ...       0\n",
              "\n",
              "[5 rows x 37 columns]"
            ]
          },
          "metadata": {},
          "execution_count": 29
        }
      ]
    },
    {
      "cell_type": "code",
      "metadata": {
        "colab": {
          "base_uri": "https://localhost:8080/",
          "height": 526
        },
        "id": "vmfASj_0E5A_",
        "outputId": "ef37a5c7-23cf-4994-dfd5-660e27bf9d85"
      },
      "source": [
        "plt.figure(figsize=(12, 8))\n",
        "sns.barplot(x='setor_cnae', y='valor_em_reais', hue='Cluster', data=dfx)"
      ],
      "execution_count": null,
      "outputs": [
        {
          "output_type": "execute_result",
          "data": {
            "text/plain": [
              "<matplotlib.axes._subplots.AxesSubplot at 0x7f0528b58bd0>"
            ]
          },
          "metadata": {},
          "execution_count": 30
        },
        {
          "output_type": "display_data",
          "data": {
            "image/png": "[encoded data removed]",
            "text/plain": [
              "<Figure size 864x576 with 1 Axes>"
            ]
          },
          "metadata": {
            "needs_background": "light"
          }
        }
      ]
    }
  ]
}